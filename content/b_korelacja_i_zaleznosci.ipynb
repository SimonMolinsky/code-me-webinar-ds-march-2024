{
 "cells": [
  {
   "cell_type": "code",
   "execution_count": 1,
   "metadata": {
    "id": "0n-52IiZPvYK"
   },
   "outputs": [],
   "source": [
    "import numpy as np\n",
    "import pandas as pd\n",
    "\n",
    "import matplotlib.pyplot as plt\n",
    "import seaborn as sns"
   ]
  },
  {
   "cell_type": "code",
   "execution_count": null,
   "metadata": {
    "colab": {
     "base_uri": "https://localhost:8080/"
    },
    "id": "KSIDBc7cP6fV",
    "outputId": "d5501db9-38bc-48f3-b74f-fd143578e498"
   },
   "outputs": [
    {
     "name": "stdout",
     "output_type": "stream",
     "text": [
      "Drive already mounted at /content/drive; to attempt to forcibly remount, call drive.mount(\"/content/drive\", force_remount=True).\n"
     ]
    }
   ],
   "source": [
    "from google.colab import drive\n",
    "drive.mount('/content/drive')"
   ]
  },
  {
   "cell_type": "code",
   "execution_count": 2,
   "metadata": {
    "id": "9VPLE49KP8nH"
   },
   "outputs": [],
   "source": [
    "FPATH = '.../events_level_1.csv'  # uzupełnij ścieżkę do pliku"
   ]
  },
  {
   "cell_type": "code",
   "execution_count": 3,
   "metadata": {
    "id": "iqVijAetQEPO"
   },
   "outputs": [],
   "source": [
    "df = pd.read_csv(FPATH)"
   ]
  },
  {
   "cell_type": "code",
   "execution_count": 4,
   "metadata": {
    "colab": {
     "base_uri": "https://localhost:8080/",
     "height": 206
    },
    "id": "L3SMdK7YQGyK",
    "outputId": "c60f565e-e779-44c0-f5df-f60515356121"
   },
   "outputs": [
    {
     "data": {
      "text/html": [
       "<div>\n",
       "<style scoped>\n",
       "    .dataframe tbody tr th:only-of-type {\n",
       "        vertical-align: middle;\n",
       "    }\n",
       "\n",
       "    .dataframe tbody tr th {\n",
       "        vertical-align: top;\n",
       "    }\n",
       "\n",
       "    .dataframe thead th {\n",
       "        text-align: right;\n",
       "    }\n",
       "</style>\n",
       "<table border=\"1\" class=\"dataframe\">\n",
       "  <thead>\n",
       "    <tr style=\"text-align: right;\">\n",
       "      <th></th>\n",
       "      <th>event_type</th>\n",
       "      <th>product_id</th>\n",
       "      <th>category_id</th>\n",
       "      <th>price</th>\n",
       "      <th>user_id</th>\n",
       "      <th>user_session</th>\n",
       "      <th>datetime</th>\n",
       "    </tr>\n",
       "  </thead>\n",
       "  <tbody>\n",
       "    <tr>\n",
       "      <th>0</th>\n",
       "      <td>view</td>\n",
       "      <td>1996170</td>\n",
       "      <td>2144415922528452715</td>\n",
       "      <td>31.90</td>\n",
       "      <td>1515915625519388267</td>\n",
       "      <td>LJuJVLEjPT</td>\n",
       "      <td>2020-09-24 11:57:06+00:00</td>\n",
       "    </tr>\n",
       "    <tr>\n",
       "      <th>1</th>\n",
       "      <td>view</td>\n",
       "      <td>139905</td>\n",
       "      <td>2144415926932472027</td>\n",
       "      <td>17.16</td>\n",
       "      <td>1515915625519380411</td>\n",
       "      <td>tdicluNnRY</td>\n",
       "      <td>2020-09-24 11:57:26+00:00</td>\n",
       "    </tr>\n",
       "    <tr>\n",
       "      <th>2</th>\n",
       "      <td>view</td>\n",
       "      <td>215454</td>\n",
       "      <td>2144415927158964449</td>\n",
       "      <td>9.81</td>\n",
       "      <td>1515915625513238515</td>\n",
       "      <td>4TMArHtXQy</td>\n",
       "      <td>2020-09-24 11:57:27+00:00</td>\n",
       "    </tr>\n",
       "    <tr>\n",
       "      <th>3</th>\n",
       "      <td>view</td>\n",
       "      <td>635807</td>\n",
       "      <td>2144415923107266682</td>\n",
       "      <td>113.81</td>\n",
       "      <td>1515915625519014356</td>\n",
       "      <td>aGFYrNgC08</td>\n",
       "      <td>2020-09-24 11:57:33+00:00</td>\n",
       "    </tr>\n",
       "    <tr>\n",
       "      <th>4</th>\n",
       "      <td>view</td>\n",
       "      <td>3658723</td>\n",
       "      <td>2144415921169498184</td>\n",
       "      <td>15.87</td>\n",
       "      <td>1515915625510743344</td>\n",
       "      <td>aa4mmk0kwQ</td>\n",
       "      <td>2020-09-24 11:57:36+00:00</td>\n",
       "    </tr>\n",
       "  </tbody>\n",
       "</table>\n",
       "</div>"
      ],
      "text/plain": [
       "  event_type  product_id          category_id   price              user_id  \\\n",
       "0       view     1996170  2144415922528452715   31.90  1515915625519388267   \n",
       "1       view      139905  2144415926932472027   17.16  1515915625519380411   \n",
       "2       view      215454  2144415927158964449    9.81  1515915625513238515   \n",
       "3       view      635807  2144415923107266682  113.81  1515915625519014356   \n",
       "4       view     3658723  2144415921169498184   15.87  1515915625510743344   \n",
       "\n",
       "  user_session                   datetime  \n",
       "0   LJuJVLEjPT  2020-09-24 11:57:06+00:00  \n",
       "1   tdicluNnRY  2020-09-24 11:57:26+00:00  \n",
       "2   4TMArHtXQy  2020-09-24 11:57:27+00:00  \n",
       "3   aGFYrNgC08  2020-09-24 11:57:33+00:00  \n",
       "4   aa4mmk0kwQ  2020-09-24 11:57:36+00:00  "
      ]
     },
     "execution_count": 4,
     "metadata": {},
     "output_type": "execute_result"
    }
   ],
   "source": [
    "df.head()"
   ]
  },
  {
   "cell_type": "code",
   "execution_count": 5,
   "metadata": {
    "colab": {
     "base_uri": "https://localhost:8080/"
    },
    "id": "pjI5QyLjQI_r",
    "outputId": "a50a6693-5405-41d2-8fad-dc39d1c86d44"
   },
   "outputs": [
    {
     "name": "stdout",
     "output_type": "stream",
     "text": [
      "<class 'pandas.core.frame.DataFrame'>\n",
      "RangeIndex: 884474 entries, 0 to 884473\n",
      "Data columns (total 7 columns):\n",
      " #   Column        Non-Null Count   Dtype  \n",
      "---  ------        --------------   -----  \n",
      " 0   event_type    884474 non-null  object \n",
      " 1   product_id    884474 non-null  int64  \n",
      " 2   category_id   884474 non-null  int64  \n",
      " 3   price         884474 non-null  float64\n",
      " 4   user_id       884474 non-null  int64  \n",
      " 5   user_session  884312 non-null  object \n",
      " 6   datetime      884474 non-null  object \n",
      "dtypes: float64(1), int64(3), object(3)\n",
      "memory usage: 47.2+ MB\n"
     ]
    }
   ],
   "source": [
    "df.info()"
   ]
  },
  {
   "cell_type": "code",
   "execution_count": 6,
   "metadata": {
    "colab": {
     "base_uri": "https://localhost:8080/"
    },
    "id": "-IP8nl9kQKrw",
    "outputId": "ef9832ab-d916-47c6-a55f-377ee2ab679f"
   },
   "outputs": [
    {
     "data": {
      "text/plain": [
       "dtype('O')"
      ]
     },
     "execution_count": 6,
     "metadata": {},
     "output_type": "execute_result"
    }
   ],
   "source": [
    "df['datetime'].dtype"
   ]
  },
  {
   "cell_type": "code",
   "execution_count": 7,
   "metadata": {
    "colab": {
     "base_uri": "https://localhost:8080/",
     "height": 35
    },
    "id": "5BX5cPMpQNlv",
    "outputId": "3f52e2ee-93e1-42c5-a69b-073029f2fc29"
   },
   "outputs": [
    {
     "data": {
      "text/plain": [
       "'2020-09-24 11:57:06+00:00'"
      ]
     },
     "execution_count": 7,
     "metadata": {},
     "output_type": "execute_result"
    }
   ],
   "source": [
    "df['datetime'].iloc[0]"
   ]
  },
  {
   "cell_type": "code",
   "execution_count": 8,
   "metadata": {
    "id": "kC_W63urQQxd"
   },
   "outputs": [],
   "source": [
    "df['datetime'] = pd.to_datetime(df['datetime'], format='%Y-%m-%d %H:%M:%S+00:00')"
   ]
  },
  {
   "cell_type": "code",
   "execution_count": 9,
   "metadata": {
    "colab": {
     "base_uri": "https://localhost:8080/",
     "height": 206
    },
    "id": "p7qHE77fQoh8",
    "outputId": "09108391-7488-4441-f39f-147fd6f39840"
   },
   "outputs": [
    {
     "data": {
      "text/html": [
       "<div>\n",
       "<style scoped>\n",
       "    .dataframe tbody tr th:only-of-type {\n",
       "        vertical-align: middle;\n",
       "    }\n",
       "\n",
       "    .dataframe tbody tr th {\n",
       "        vertical-align: top;\n",
       "    }\n",
       "\n",
       "    .dataframe thead th {\n",
       "        text-align: right;\n",
       "    }\n",
       "</style>\n",
       "<table border=\"1\" class=\"dataframe\">\n",
       "  <thead>\n",
       "    <tr style=\"text-align: right;\">\n",
       "      <th></th>\n",
       "      <th>event_type</th>\n",
       "      <th>product_id</th>\n",
       "      <th>category_id</th>\n",
       "      <th>price</th>\n",
       "      <th>user_id</th>\n",
       "      <th>user_session</th>\n",
       "      <th>datetime</th>\n",
       "    </tr>\n",
       "  </thead>\n",
       "  <tbody>\n",
       "    <tr>\n",
       "      <th>0</th>\n",
       "      <td>view</td>\n",
       "      <td>1996170</td>\n",
       "      <td>2144415922528452715</td>\n",
       "      <td>31.90</td>\n",
       "      <td>1515915625519388267</td>\n",
       "      <td>LJuJVLEjPT</td>\n",
       "      <td>2020-09-24 11:57:06</td>\n",
       "    </tr>\n",
       "    <tr>\n",
       "      <th>1</th>\n",
       "      <td>view</td>\n",
       "      <td>139905</td>\n",
       "      <td>2144415926932472027</td>\n",
       "      <td>17.16</td>\n",
       "      <td>1515915625519380411</td>\n",
       "      <td>tdicluNnRY</td>\n",
       "      <td>2020-09-24 11:57:26</td>\n",
       "    </tr>\n",
       "    <tr>\n",
       "      <th>2</th>\n",
       "      <td>view</td>\n",
       "      <td>215454</td>\n",
       "      <td>2144415927158964449</td>\n",
       "      <td>9.81</td>\n",
       "      <td>1515915625513238515</td>\n",
       "      <td>4TMArHtXQy</td>\n",
       "      <td>2020-09-24 11:57:27</td>\n",
       "    </tr>\n",
       "    <tr>\n",
       "      <th>3</th>\n",
       "      <td>view</td>\n",
       "      <td>635807</td>\n",
       "      <td>2144415923107266682</td>\n",
       "      <td>113.81</td>\n",
       "      <td>1515915625519014356</td>\n",
       "      <td>aGFYrNgC08</td>\n",
       "      <td>2020-09-24 11:57:33</td>\n",
       "    </tr>\n",
       "    <tr>\n",
       "      <th>4</th>\n",
       "      <td>view</td>\n",
       "      <td>3658723</td>\n",
       "      <td>2144415921169498184</td>\n",
       "      <td>15.87</td>\n",
       "      <td>1515915625510743344</td>\n",
       "      <td>aa4mmk0kwQ</td>\n",
       "      <td>2020-09-24 11:57:36</td>\n",
       "    </tr>\n",
       "  </tbody>\n",
       "</table>\n",
       "</div>"
      ],
      "text/plain": [
       "  event_type  product_id          category_id   price              user_id  \\\n",
       "0       view     1996170  2144415922528452715   31.90  1515915625519388267   \n",
       "1       view      139905  2144415926932472027   17.16  1515915625519380411   \n",
       "2       view      215454  2144415927158964449    9.81  1515915625513238515   \n",
       "3       view      635807  2144415923107266682  113.81  1515915625519014356   \n",
       "4       view     3658723  2144415921169498184   15.87  1515915625510743344   \n",
       "\n",
       "  user_session            datetime  \n",
       "0   LJuJVLEjPT 2020-09-24 11:57:06  \n",
       "1   tdicluNnRY 2020-09-24 11:57:26  \n",
       "2   4TMArHtXQy 2020-09-24 11:57:27  \n",
       "3   aGFYrNgC08 2020-09-24 11:57:33  \n",
       "4   aa4mmk0kwQ 2020-09-24 11:57:36  "
      ]
     },
     "execution_count": 9,
     "metadata": {},
     "output_type": "execute_result"
    }
   ],
   "source": [
    "df.head()"
   ]
  },
  {
   "cell_type": "code",
   "execution_count": 10,
   "metadata": {
    "colab": {
     "base_uri": "https://localhost:8080/"
    },
    "id": "3_3_co--iZjq",
    "outputId": "daaed9dd-20b3-416d-f4df-7bea2534b6db"
   },
   "outputs": [
    {
     "name": "stdout",
     "output_type": "stream",
     "text": [
      "<class 'pandas.core.frame.DataFrame'>\n",
      "RangeIndex: 884474 entries, 0 to 884473\n",
      "Data columns (total 7 columns):\n",
      " #   Column        Non-Null Count   Dtype         \n",
      "---  ------        --------------   -----         \n",
      " 0   event_type    884474 non-null  object        \n",
      " 1   product_id    884474 non-null  int64         \n",
      " 2   category_id   884474 non-null  int64         \n",
      " 3   price         884474 non-null  float64       \n",
      " 4   user_id       884474 non-null  int64         \n",
      " 5   user_session  884312 non-null  object        \n",
      " 6   datetime      884474 non-null  datetime64[ns]\n",
      "dtypes: datetime64[ns](1), float64(1), int64(3), object(2)\n",
      "memory usage: 47.2+ MB\n"
     ]
    }
   ],
   "source": [
    "df.info()"
   ]
  },
  {
   "cell_type": "code",
   "execution_count": 11,
   "metadata": {
    "id": "THGzrCqiiatA"
   },
   "outputs": [],
   "source": [
    "df['user_id'] = df['user_id'].astype('category')\n",
    "df['product_id'] = df['product_id'].astype('category')\n",
    "df['category_id'] = df['category_id'].astype('category')"
   ]
  },
  {
   "cell_type": "markdown",
   "metadata": {
    "id": "5SRiAm03Q2V4"
   },
   "source": [
    "# Krok 1: Wyprowadzenie dodatkowych cech czasu\n",
    "\n",
    "- data\n",
    "- dzień tygodnia"
   ]
  },
  {
   "cell_type": "code",
   "execution_count": 12,
   "metadata": {
    "id": "N_rOdrBJVIpv"
   },
   "outputs": [],
   "source": [
    "df['date'] = df['datetime'].dt.date"
   ]
  },
  {
   "cell_type": "code",
   "execution_count": 13,
   "metadata": {
    "id": "W8Ez2H3PQ06v"
   },
   "outputs": [],
   "source": [
    "df['dayofweek'] = df['datetime'].dt.dayofweek"
   ]
  },
  {
   "cell_type": "code",
   "execution_count": 14,
   "metadata": {
    "colab": {
     "base_uri": "https://localhost:8080/",
     "height": 206
    },
    "id": "-BzsfNqXVPTY",
    "outputId": "c88fabee-828c-4119-9bd5-d14a74b06a5b"
   },
   "outputs": [
    {
     "data": {
      "text/html": [
       "<div>\n",
       "<style scoped>\n",
       "    .dataframe tbody tr th:only-of-type {\n",
       "        vertical-align: middle;\n",
       "    }\n",
       "\n",
       "    .dataframe tbody tr th {\n",
       "        vertical-align: top;\n",
       "    }\n",
       "\n",
       "    .dataframe thead th {\n",
       "        text-align: right;\n",
       "    }\n",
       "</style>\n",
       "<table border=\"1\" class=\"dataframe\">\n",
       "  <thead>\n",
       "    <tr style=\"text-align: right;\">\n",
       "      <th></th>\n",
       "      <th>event_type</th>\n",
       "      <th>product_id</th>\n",
       "      <th>category_id</th>\n",
       "      <th>price</th>\n",
       "      <th>user_id</th>\n",
       "      <th>user_session</th>\n",
       "      <th>datetime</th>\n",
       "      <th>date</th>\n",
       "      <th>dayofweek</th>\n",
       "    </tr>\n",
       "  </thead>\n",
       "  <tbody>\n",
       "    <tr>\n",
       "      <th>0</th>\n",
       "      <td>view</td>\n",
       "      <td>1996170</td>\n",
       "      <td>2144415922528452715</td>\n",
       "      <td>31.90</td>\n",
       "      <td>1515915625519388267</td>\n",
       "      <td>LJuJVLEjPT</td>\n",
       "      <td>2020-09-24 11:57:06</td>\n",
       "      <td>2020-09-24</td>\n",
       "      <td>3</td>\n",
       "    </tr>\n",
       "    <tr>\n",
       "      <th>1</th>\n",
       "      <td>view</td>\n",
       "      <td>139905</td>\n",
       "      <td>2144415926932472027</td>\n",
       "      <td>17.16</td>\n",
       "      <td>1515915625519380411</td>\n",
       "      <td>tdicluNnRY</td>\n",
       "      <td>2020-09-24 11:57:26</td>\n",
       "      <td>2020-09-24</td>\n",
       "      <td>3</td>\n",
       "    </tr>\n",
       "    <tr>\n",
       "      <th>2</th>\n",
       "      <td>view</td>\n",
       "      <td>215454</td>\n",
       "      <td>2144415927158964449</td>\n",
       "      <td>9.81</td>\n",
       "      <td>1515915625513238515</td>\n",
       "      <td>4TMArHtXQy</td>\n",
       "      <td>2020-09-24 11:57:27</td>\n",
       "      <td>2020-09-24</td>\n",
       "      <td>3</td>\n",
       "    </tr>\n",
       "    <tr>\n",
       "      <th>3</th>\n",
       "      <td>view</td>\n",
       "      <td>635807</td>\n",
       "      <td>2144415923107266682</td>\n",
       "      <td>113.81</td>\n",
       "      <td>1515915625519014356</td>\n",
       "      <td>aGFYrNgC08</td>\n",
       "      <td>2020-09-24 11:57:33</td>\n",
       "      <td>2020-09-24</td>\n",
       "      <td>3</td>\n",
       "    </tr>\n",
       "    <tr>\n",
       "      <th>4</th>\n",
       "      <td>view</td>\n",
       "      <td>3658723</td>\n",
       "      <td>2144415921169498184</td>\n",
       "      <td>15.87</td>\n",
       "      <td>1515915625510743344</td>\n",
       "      <td>aa4mmk0kwQ</td>\n",
       "      <td>2020-09-24 11:57:36</td>\n",
       "      <td>2020-09-24</td>\n",
       "      <td>3</td>\n",
       "    </tr>\n",
       "  </tbody>\n",
       "</table>\n",
       "</div>"
      ],
      "text/plain": [
       "  event_type product_id          category_id   price              user_id  \\\n",
       "0       view    1996170  2144415922528452715   31.90  1515915625519388267   \n",
       "1       view     139905  2144415926932472027   17.16  1515915625519380411   \n",
       "2       view     215454  2144415927158964449    9.81  1515915625513238515   \n",
       "3       view     635807  2144415923107266682  113.81  1515915625519014356   \n",
       "4       view    3658723  2144415921169498184   15.87  1515915625510743344   \n",
       "\n",
       "  user_session            datetime        date  dayofweek  \n",
       "0   LJuJVLEjPT 2020-09-24 11:57:06  2020-09-24          3  \n",
       "1   tdicluNnRY 2020-09-24 11:57:26  2020-09-24          3  \n",
       "2   4TMArHtXQy 2020-09-24 11:57:27  2020-09-24          3  \n",
       "3   aGFYrNgC08 2020-09-24 11:57:33  2020-09-24          3  \n",
       "4   aa4mmk0kwQ 2020-09-24 11:57:36  2020-09-24          3  "
      ]
     },
     "execution_count": 14,
     "metadata": {},
     "output_type": "execute_result"
    }
   ],
   "source": [
    "df.head()"
   ]
  },
  {
   "cell_type": "markdown",
   "metadata": {
    "id": "b21cQ5KwR2kY"
   },
   "source": [
    "# Krok 2: wartość sprzedanych produktów w czasie\n",
    "\n",
    "- jak określić sprzedaż?\n",
    "- agregacja\n",
    "- sortowanie\n",
    "- wykres sprzedaży"
   ]
  },
  {
   "cell_type": "code",
   "execution_count": 15,
   "metadata": {
    "colab": {
     "base_uri": "https://localhost:8080/"
    },
    "id": "3HTwh7KbRsn2",
    "outputId": "12b9e505-bc6c-47df-f14f-2217aef3d2d4"
   },
   "outputs": [
    {
     "data": {
      "text/plain": [
       "array(['view', 'cart', 'purchase'], dtype=object)"
      ]
     },
     "execution_count": 15,
     "metadata": {},
     "output_type": "execute_result"
    }
   ],
   "source": [
    "df['event_type'].unique()"
   ]
  },
  {
   "cell_type": "code",
   "execution_count": 16,
   "metadata": {
    "id": "WFXUFypaSJ6s"
   },
   "outputs": [],
   "source": [
    "purchases = df[df['event_type'] == 'purchase']  # SELECT * FROM df WHERE event_type = 'purchase'"
   ]
  },
  {
   "cell_type": "code",
   "execution_count": 17,
   "metadata": {
    "colab": {
     "base_uri": "https://localhost:8080/"
    },
    "id": "Hn8EJGljULoT",
    "outputId": "827b9616-5cdf-48ef-c05b-4ef73dbdfa2b"
   },
   "outputs": [
    {
     "data": {
      "text/plain": [
       "0.04222057403609377"
      ]
     },
     "execution_count": 17,
     "metadata": {},
     "output_type": "execute_result"
    }
   ],
   "source": [
    "len(purchases) / len(df)"
   ]
  },
  {
   "cell_type": "code",
   "execution_count": 18,
   "metadata": {
    "colab": {
     "base_uri": "https://localhost:8080/",
     "height": 455
    },
    "id": "A1af6XYUUNj6",
    "outputId": "b62549ca-87bb-4ff6-9273-2bb6ae79fd25"
   },
   "outputs": [
    {
     "data": {
      "text/html": [
       "<div>\n",
       "<style scoped>\n",
       "    .dataframe tbody tr th:only-of-type {\n",
       "        vertical-align: middle;\n",
       "    }\n",
       "\n",
       "    .dataframe tbody tr th {\n",
       "        vertical-align: top;\n",
       "    }\n",
       "\n",
       "    .dataframe thead th {\n",
       "        text-align: right;\n",
       "    }\n",
       "</style>\n",
       "<table border=\"1\" class=\"dataframe\">\n",
       "  <thead>\n",
       "    <tr style=\"text-align: right;\">\n",
       "      <th></th>\n",
       "      <th>price</th>\n",
       "    </tr>\n",
       "    <tr>\n",
       "      <th>date</th>\n",
       "      <th></th>\n",
       "    </tr>\n",
       "  </thead>\n",
       "  <tbody>\n",
       "    <tr>\n",
       "      <th>2020-09-24</th>\n",
       "      <td>9563.67</td>\n",
       "    </tr>\n",
       "    <tr>\n",
       "      <th>2020-09-25</th>\n",
       "      <td>13025.72</td>\n",
       "    </tr>\n",
       "    <tr>\n",
       "      <th>2020-09-26</th>\n",
       "      <td>11821.97</td>\n",
       "    </tr>\n",
       "    <tr>\n",
       "      <th>2020-09-27</th>\n",
       "      <td>7910.53</td>\n",
       "    </tr>\n",
       "    <tr>\n",
       "      <th>2020-09-28</th>\n",
       "      <td>15120.82</td>\n",
       "    </tr>\n",
       "    <tr>\n",
       "      <th>...</th>\n",
       "      <td>...</td>\n",
       "    </tr>\n",
       "    <tr>\n",
       "      <th>2021-02-24</th>\n",
       "      <td>43883.95</td>\n",
       "    </tr>\n",
       "    <tr>\n",
       "      <th>2021-02-25</th>\n",
       "      <td>61550.13</td>\n",
       "    </tr>\n",
       "    <tr>\n",
       "      <th>2021-02-26</th>\n",
       "      <td>50637.70</td>\n",
       "    </tr>\n",
       "    <tr>\n",
       "      <th>2021-02-27</th>\n",
       "      <td>34565.56</td>\n",
       "    </tr>\n",
       "    <tr>\n",
       "      <th>2021-02-28</th>\n",
       "      <td>41300.45</td>\n",
       "    </tr>\n",
       "  </tbody>\n",
       "</table>\n",
       "<p>158 rows × 1 columns</p>\n",
       "</div>"
      ],
      "text/plain": [
       "               price\n",
       "date                \n",
       "2020-09-24   9563.67\n",
       "2020-09-25  13025.72\n",
       "2020-09-26  11821.97\n",
       "2020-09-27   7910.53\n",
       "2020-09-28  15120.82\n",
       "...              ...\n",
       "2021-02-24  43883.95\n",
       "2021-02-25  61550.13\n",
       "2021-02-26  50637.70\n",
       "2021-02-27  34565.56\n",
       "2021-02-28  41300.45\n",
       "\n",
       "[158 rows x 1 columns]"
      ]
     },
     "execution_count": 18,
     "metadata": {},
     "output_type": "execute_result"
    }
   ],
   "source": [
    "agg_purchases = purchases[['price', 'date']].groupby('date').sum()\n",
    "agg_purchases"
   ]
  },
  {
   "cell_type": "code",
   "execution_count": 19,
   "metadata": {
    "id": "Nmufc4HEUnyJ"
   },
   "outputs": [],
   "source": [
    "agg_purchases.sort_index(inplace=True)"
   ]
  },
  {
   "cell_type": "code",
   "execution_count": 20,
   "metadata": {
    "colab": {
     "base_uri": "https://localhost:8080/",
     "height": 522
    },
    "id": "ofhB_paQV1jG",
    "outputId": "5c2dfc4f-3098-4a56-cea1-ed02dfdc528e"
   },
   "outputs": [
    {
     "data": {
      "image/png": "[encoded data removed]",
      "text/plain": [
       "<Figure size 1400x600 with 1 Axes>"
      ]
     },
     "metadata": {},
     "output_type": "display_data"
    }
   ],
   "source": [
    "plt.figure(figsize=(14, 6))\n",
    "plt.plot(agg_purchases)\n",
    "plt.show()"
   ]
  },
  {
   "cell_type": "code",
   "execution_count": 21,
   "metadata": {
    "id": "RjLJXxC5V43G"
   },
   "outputs": [],
   "source": [
    "# A jak się ma wartość produktów dodanych do koszyka do wartości sprzedaży?"
   ]
  },
  {
   "cell_type": "code",
   "execution_count": 22,
   "metadata": {
    "id": "BHniSYbTWaGT"
   },
   "outputs": [],
   "source": [
    "cart = df[df['event_type'] == 'cart']\n",
    "agg_cart = cart[['price', 'date']].groupby('date').sum()"
   ]
  },
  {
   "cell_type": "code",
   "execution_count": 23,
   "metadata": {
    "colab": {
     "base_uri": "https://localhost:8080/",
     "height": 542
    },
    "id": "EFVB8kw6WoVT",
    "outputId": "8f225607-cd97-4c7c-8b87-985c7dbe026c"
   },
   "outputs": [
    {
     "data": {
      "image/png": "[encoded data removed]",
      "text/plain": [
       "<Figure size 1400x600 with 1 Axes>"
      ]
     },
     "metadata": {},
     "output_type": "display_data"
    }
   ],
   "source": [
    "plt.figure(figsize=(14, 6))\n",
    "plt.plot(agg_purchases)\n",
    "plt.plot(agg_cart)\n",
    "plt.legend(['Transactions value', 'Cart value'])\n",
    "plt.xlabel('Value')\n",
    "plt.ylabel('Date')\n",
    "plt.show()"
   ]
  },
  {
   "cell_type": "code",
   "execution_count": 24,
   "metadata": {
    "colab": {
     "base_uri": "https://localhost:8080/",
     "height": 564
    },
    "id": "p8Xx7EQkW8lw",
    "outputId": "166473e9-ca4f-43fa-ab48-204cb9419d22"
   },
   "outputs": [
    {
     "data": {
      "image/png": "[encoded data removed]",
      "text/plain": [
       "<Figure size 1400x600 with 1 Axes>"
      ]
     },
     "metadata": {},
     "output_type": "display_data"
    }
   ],
   "source": [
    "# Stosunek różnicy wartości produktów dodanych do koszyka i produktów sprzedanych\n",
    "# do produktów sprzedanych\n",
    "\n",
    "plt.figure(figsize=(14, 6))\n",
    "plt.plot((agg_cart - agg_purchases) / agg_purchases)\n",
    "plt.title('Ratio of difference between cart value and real transaction value to real value')\n",
    "plt.legend(['Ratio'])\n",
    "plt.xlabel('Value')\n",
    "plt.ylabel('Date')\n",
    "plt.show()"
   ]
  },
  {
   "cell_type": "markdown",
   "metadata": {
    "id": "PwsIohs-X9FU"
   },
   "source": [
    "# Krok 3: Dzień tygodnia a liczba zdarzeń\n",
    "\n",
    "- liczba użytkowników na dzień tygodnia"
   ]
  },
  {
   "cell_type": "code",
   "execution_count": 25,
   "metadata": {
    "id": "Y3J6Q9L4XN73"
   },
   "outputs": [],
   "source": [
    "users_per_day = df[['dayofweek', 'user_id']].groupby('dayofweek').count()"
   ]
  },
  {
   "cell_type": "code",
   "execution_count": 26,
   "metadata": {
    "colab": {
     "base_uri": "https://localhost:8080/",
     "height": 300
    },
    "id": "sj-liwiOakq2",
    "outputId": "476053e5-558d-4c31-c389-2ebf3c7d20a5"
   },
   "outputs": [
    {
     "data": {
      "text/html": [
       "<div>\n",
       "<style scoped>\n",
       "    .dataframe tbody tr th:only-of-type {\n",
       "        vertical-align: middle;\n",
       "    }\n",
       "\n",
       "    .dataframe tbody tr th {\n",
       "        vertical-align: top;\n",
       "    }\n",
       "\n",
       "    .dataframe thead th {\n",
       "        text-align: right;\n",
       "    }\n",
       "</style>\n",
       "<table border=\"1\" class=\"dataframe\">\n",
       "  <thead>\n",
       "    <tr style=\"text-align: right;\">\n",
       "      <th></th>\n",
       "      <th>user_id</th>\n",
       "    </tr>\n",
       "    <tr>\n",
       "      <th>dayofweek</th>\n",
       "      <th></th>\n",
       "    </tr>\n",
       "  </thead>\n",
       "  <tbody>\n",
       "    <tr>\n",
       "      <th>0</th>\n",
       "      <td>133738</td>\n",
       "    </tr>\n",
       "    <tr>\n",
       "      <th>1</th>\n",
       "      <td>130302</td>\n",
       "    </tr>\n",
       "    <tr>\n",
       "      <th>2</th>\n",
       "      <td>127799</td>\n",
       "    </tr>\n",
       "    <tr>\n",
       "      <th>3</th>\n",
       "      <td>126208</td>\n",
       "    </tr>\n",
       "    <tr>\n",
       "      <th>4</th>\n",
       "      <td>125657</td>\n",
       "    </tr>\n",
       "    <tr>\n",
       "      <th>5</th>\n",
       "      <td>117494</td>\n",
       "    </tr>\n",
       "    <tr>\n",
       "      <th>6</th>\n",
       "      <td>123276</td>\n",
       "    </tr>\n",
       "  </tbody>\n",
       "</table>\n",
       "</div>"
      ],
      "text/plain": [
       "           user_id\n",
       "dayofweek         \n",
       "0           133738\n",
       "1           130302\n",
       "2           127799\n",
       "3           126208\n",
       "4           125657\n",
       "5           117494\n",
       "6           123276"
      ]
     },
     "execution_count": 26,
     "metadata": {},
     "output_type": "execute_result"
    }
   ],
   "source": [
    "users_per_day"
   ]
  },
  {
   "cell_type": "code",
   "execution_count": 27,
   "metadata": {
    "id": "vLCd7o6OanIZ"
   },
   "outputs": [],
   "source": [
    "n_users_per_day = df[['dayofweek', 'user_id']].groupby('dayofweek').nunique()"
   ]
  },
  {
   "cell_type": "code",
   "execution_count": 28,
   "metadata": {
    "colab": {
     "base_uri": "https://localhost:8080/",
     "height": 300
    },
    "id": "CvtUBuLLjAM3",
    "outputId": "60c8181d-96e0-4965-8427-3ec3ef03455c"
   },
   "outputs": [
    {
     "data": {
      "text/html": [
       "<div>\n",
       "<style scoped>\n",
       "    .dataframe tbody tr th:only-of-type {\n",
       "        vertical-align: middle;\n",
       "    }\n",
       "\n",
       "    .dataframe tbody tr th {\n",
       "        vertical-align: top;\n",
       "    }\n",
       "\n",
       "    .dataframe thead th {\n",
       "        text-align: right;\n",
       "    }\n",
       "</style>\n",
       "<table border=\"1\" class=\"dataframe\">\n",
       "  <thead>\n",
       "    <tr style=\"text-align: right;\">\n",
       "      <th></th>\n",
       "      <th>user_id</th>\n",
       "    </tr>\n",
       "    <tr>\n",
       "      <th>dayofweek</th>\n",
       "      <th></th>\n",
       "    </tr>\n",
       "  </thead>\n",
       "  <tbody>\n",
       "    <tr>\n",
       "      <th>0</th>\n",
       "      <td>68169</td>\n",
       "    </tr>\n",
       "    <tr>\n",
       "      <th>1</th>\n",
       "      <td>66369</td>\n",
       "    </tr>\n",
       "    <tr>\n",
       "      <th>2</th>\n",
       "      <td>65796</td>\n",
       "    </tr>\n",
       "    <tr>\n",
       "      <th>3</th>\n",
       "      <td>65259</td>\n",
       "    </tr>\n",
       "    <tr>\n",
       "      <th>4</th>\n",
       "      <td>65615</td>\n",
       "    </tr>\n",
       "    <tr>\n",
       "      <th>5</th>\n",
       "      <td>60066</td>\n",
       "    </tr>\n",
       "    <tr>\n",
       "      <th>6</th>\n",
       "      <td>62613</td>\n",
       "    </tr>\n",
       "  </tbody>\n",
       "</table>\n",
       "</div>"
      ],
      "text/plain": [
       "           user_id\n",
       "dayofweek         \n",
       "0            68169\n",
       "1            66369\n",
       "2            65796\n",
       "3            65259\n",
       "4            65615\n",
       "5            60066\n",
       "6            62613"
      ]
     },
     "execution_count": 28,
     "metadata": {},
     "output_type": "execute_result"
    }
   ],
   "source": [
    "n_users_per_day"
   ]
  },
  {
   "cell_type": "code",
   "execution_count": 29,
   "metadata": {
    "id": "sOq5ZLJtjBsN"
   },
   "outputs": [],
   "source": [
    "# Połącz wyniki"
   ]
  },
  {
   "cell_type": "code",
   "execution_count": 30,
   "metadata": {
    "id": "4T-6tvgQjRMH"
   },
   "outputs": [],
   "source": [
    "users_per_day.columns = ['value']\n",
    "users_per_day['count'] = 'total'"
   ]
  },
  {
   "cell_type": "code",
   "execution_count": 31,
   "metadata": {
    "colab": {
     "base_uri": "https://localhost:8080/",
     "height": 238
    },
    "id": "A2YbHaEOlL--",
    "outputId": "4ac4e6de-f514-4c6b-e202-5dbab3f5b042"
   },
   "outputs": [
    {
     "data": {
      "text/html": [
       "<div>\n",
       "<style scoped>\n",
       "    .dataframe tbody tr th:only-of-type {\n",
       "        vertical-align: middle;\n",
       "    }\n",
       "\n",
       "    .dataframe tbody tr th {\n",
       "        vertical-align: top;\n",
       "    }\n",
       "\n",
       "    .dataframe thead th {\n",
       "        text-align: right;\n",
       "    }\n",
       "</style>\n",
       "<table border=\"1\" class=\"dataframe\">\n",
       "  <thead>\n",
       "    <tr style=\"text-align: right;\">\n",
       "      <th></th>\n",
       "      <th>value</th>\n",
       "      <th>count</th>\n",
       "    </tr>\n",
       "    <tr>\n",
       "      <th>dayofweek</th>\n",
       "      <th></th>\n",
       "      <th></th>\n",
       "    </tr>\n",
       "  </thead>\n",
       "  <tbody>\n",
       "    <tr>\n",
       "      <th>0</th>\n",
       "      <td>133738</td>\n",
       "      <td>total</td>\n",
       "    </tr>\n",
       "    <tr>\n",
       "      <th>1</th>\n",
       "      <td>130302</td>\n",
       "      <td>total</td>\n",
       "    </tr>\n",
       "    <tr>\n",
       "      <th>2</th>\n",
       "      <td>127799</td>\n",
       "      <td>total</td>\n",
       "    </tr>\n",
       "    <tr>\n",
       "      <th>3</th>\n",
       "      <td>126208</td>\n",
       "      <td>total</td>\n",
       "    </tr>\n",
       "    <tr>\n",
       "      <th>4</th>\n",
       "      <td>125657</td>\n",
       "      <td>total</td>\n",
       "    </tr>\n",
       "  </tbody>\n",
       "</table>\n",
       "</div>"
      ],
      "text/plain": [
       "            value  count\n",
       "dayofweek               \n",
       "0          133738  total\n",
       "1          130302  total\n",
       "2          127799  total\n",
       "3          126208  total\n",
       "4          125657  total"
      ]
     },
     "execution_count": 31,
     "metadata": {},
     "output_type": "execute_result"
    }
   ],
   "source": [
    "users_per_day.head()"
   ]
  },
  {
   "cell_type": "code",
   "execution_count": 32,
   "metadata": {
    "colab": {
     "base_uri": "https://localhost:8080/",
     "height": 238
    },
    "id": "GoV2fllNlNzU",
    "outputId": "cb4ac43e-df40-4db8-b5a3-d604c080c6db"
   },
   "outputs": [
    {
     "data": {
      "text/html": [
       "<div>\n",
       "<style scoped>\n",
       "    .dataframe tbody tr th:only-of-type {\n",
       "        vertical-align: middle;\n",
       "    }\n",
       "\n",
       "    .dataframe tbody tr th {\n",
       "        vertical-align: top;\n",
       "    }\n",
       "\n",
       "    .dataframe thead th {\n",
       "        text-align: right;\n",
       "    }\n",
       "</style>\n",
       "<table border=\"1\" class=\"dataframe\">\n",
       "  <thead>\n",
       "    <tr style=\"text-align: right;\">\n",
       "      <th></th>\n",
       "      <th>value</th>\n",
       "      <th>count</th>\n",
       "    </tr>\n",
       "    <tr>\n",
       "      <th>dayofweek</th>\n",
       "      <th></th>\n",
       "      <th></th>\n",
       "    </tr>\n",
       "  </thead>\n",
       "  <tbody>\n",
       "    <tr>\n",
       "      <th>0</th>\n",
       "      <td>68169</td>\n",
       "      <td>nunique</td>\n",
       "    </tr>\n",
       "    <tr>\n",
       "      <th>1</th>\n",
       "      <td>66369</td>\n",
       "      <td>nunique</td>\n",
       "    </tr>\n",
       "    <tr>\n",
       "      <th>2</th>\n",
       "      <td>65796</td>\n",
       "      <td>nunique</td>\n",
       "    </tr>\n",
       "    <tr>\n",
       "      <th>3</th>\n",
       "      <td>65259</td>\n",
       "      <td>nunique</td>\n",
       "    </tr>\n",
       "    <tr>\n",
       "      <th>4</th>\n",
       "      <td>65615</td>\n",
       "      <td>nunique</td>\n",
       "    </tr>\n",
       "  </tbody>\n",
       "</table>\n",
       "</div>"
      ],
      "text/plain": [
       "           value    count\n",
       "dayofweek                \n",
       "0          68169  nunique\n",
       "1          66369  nunique\n",
       "2          65796  nunique\n",
       "3          65259  nunique\n",
       "4          65615  nunique"
      ]
     },
     "execution_count": 32,
     "metadata": {},
     "output_type": "execute_result"
    }
   ],
   "source": [
    "n_users_per_day.columns = ['value']\n",
    "n_users_per_day['count'] = 'nunique'\n",
    "n_users_per_day.head()"
   ]
  },
  {
   "cell_type": "code",
   "execution_count": 33,
   "metadata": {
    "colab": {
     "base_uri": "https://localhost:8080/",
     "height": 206
    },
    "id": "aNNMsqUrli8r",
    "outputId": "126490e7-93f1-4ca8-edc4-66c35a0ec350"
   },
   "outputs": [
    {
     "data": {
      "text/html": [
       "<div>\n",
       "<style scoped>\n",
       "    .dataframe tbody tr th:only-of-type {\n",
       "        vertical-align: middle;\n",
       "    }\n",
       "\n",
       "    .dataframe tbody tr th {\n",
       "        vertical-align: top;\n",
       "    }\n",
       "\n",
       "    .dataframe thead th {\n",
       "        text-align: right;\n",
       "    }\n",
       "</style>\n",
       "<table border=\"1\" class=\"dataframe\">\n",
       "  <thead>\n",
       "    <tr style=\"text-align: right;\">\n",
       "      <th></th>\n",
       "      <th>dayofweek</th>\n",
       "      <th>value</th>\n",
       "      <th>count</th>\n",
       "    </tr>\n",
       "  </thead>\n",
       "  <tbody>\n",
       "    <tr>\n",
       "      <th>0</th>\n",
       "      <td>0</td>\n",
       "      <td>133738</td>\n",
       "      <td>total</td>\n",
       "    </tr>\n",
       "    <tr>\n",
       "      <th>1</th>\n",
       "      <td>1</td>\n",
       "      <td>130302</td>\n",
       "      <td>total</td>\n",
       "    </tr>\n",
       "    <tr>\n",
       "      <th>2</th>\n",
       "      <td>2</td>\n",
       "      <td>127799</td>\n",
       "      <td>total</td>\n",
       "    </tr>\n",
       "    <tr>\n",
       "      <th>3</th>\n",
       "      <td>3</td>\n",
       "      <td>126208</td>\n",
       "      <td>total</td>\n",
       "    </tr>\n",
       "    <tr>\n",
       "      <th>4</th>\n",
       "      <td>4</td>\n",
       "      <td>125657</td>\n",
       "      <td>total</td>\n",
       "    </tr>\n",
       "  </tbody>\n",
       "</table>\n",
       "</div>"
      ],
      "text/plain": [
       "   dayofweek   value  count\n",
       "0          0  133738  total\n",
       "1          1  130302  total\n",
       "2          2  127799  total\n",
       "3          3  126208  total\n",
       "4          4  125657  total"
      ]
     },
     "execution_count": 33,
     "metadata": {},
     "output_type": "execute_result"
    }
   ],
   "source": [
    "users_per_day.reset_index(inplace=True)\n",
    "users_per_day.head()"
   ]
  },
  {
   "cell_type": "code",
   "execution_count": 34,
   "metadata": {
    "id": "8A89P6N-lthS"
   },
   "outputs": [],
   "source": [
    "n_users_per_day.reset_index(inplace=True)"
   ]
  },
  {
   "cell_type": "code",
   "execution_count": 35,
   "metadata": {
    "colab": {
     "base_uri": "https://localhost:8080/",
     "height": 206
    },
    "id": "vsb35NYalycD",
    "outputId": "1fc0a499-df0b-4339-970f-6ea0a625faa7"
   },
   "outputs": [
    {
     "data": {
      "text/html": [
       "<div>\n",
       "<style scoped>\n",
       "    .dataframe tbody tr th:only-of-type {\n",
       "        vertical-align: middle;\n",
       "    }\n",
       "\n",
       "    .dataframe tbody tr th {\n",
       "        vertical-align: top;\n",
       "    }\n",
       "\n",
       "    .dataframe thead th {\n",
       "        text-align: right;\n",
       "    }\n",
       "</style>\n",
       "<table border=\"1\" class=\"dataframe\">\n",
       "  <thead>\n",
       "    <tr style=\"text-align: right;\">\n",
       "      <th></th>\n",
       "      <th>dayofweek</th>\n",
       "      <th>value</th>\n",
       "      <th>count</th>\n",
       "    </tr>\n",
       "  </thead>\n",
       "  <tbody>\n",
       "    <tr>\n",
       "      <th>0</th>\n",
       "      <td>0</td>\n",
       "      <td>133738</td>\n",
       "      <td>total</td>\n",
       "    </tr>\n",
       "    <tr>\n",
       "      <th>1</th>\n",
       "      <td>1</td>\n",
       "      <td>130302</td>\n",
       "      <td>total</td>\n",
       "    </tr>\n",
       "    <tr>\n",
       "      <th>2</th>\n",
       "      <td>2</td>\n",
       "      <td>127799</td>\n",
       "      <td>total</td>\n",
       "    </tr>\n",
       "    <tr>\n",
       "      <th>3</th>\n",
       "      <td>3</td>\n",
       "      <td>126208</td>\n",
       "      <td>total</td>\n",
       "    </tr>\n",
       "    <tr>\n",
       "      <th>4</th>\n",
       "      <td>4</td>\n",
       "      <td>125657</td>\n",
       "      <td>total</td>\n",
       "    </tr>\n",
       "  </tbody>\n",
       "</table>\n",
       "</div>"
      ],
      "text/plain": [
       "   dayofweek   value  count\n",
       "0          0  133738  total\n",
       "1          1  130302  total\n",
       "2          2  127799  total\n",
       "3          3  126208  total\n",
       "4          4  125657  total"
      ]
     },
     "execution_count": 35,
     "metadata": {},
     "output_type": "execute_result"
    }
   ],
   "source": [
    "users_daily = pd.concat([users_per_day, n_users_per_day], ignore_index=True)\n",
    "users_daily.head()"
   ]
  },
  {
   "cell_type": "code",
   "execution_count": 36,
   "metadata": {
    "colab": {
     "base_uri": "https://localhost:8080/",
     "height": 206
    },
    "id": "5quPoZGal7iz",
    "outputId": "1434e0c1-5403-4e78-e229-80b5064dd626"
   },
   "outputs": [
    {
     "data": {
      "text/html": [
       "<div>\n",
       "<style scoped>\n",
       "    .dataframe tbody tr th:only-of-type {\n",
       "        vertical-align: middle;\n",
       "    }\n",
       "\n",
       "    .dataframe tbody tr th {\n",
       "        vertical-align: top;\n",
       "    }\n",
       "\n",
       "    .dataframe thead th {\n",
       "        text-align: right;\n",
       "    }\n",
       "</style>\n",
       "<table border=\"1\" class=\"dataframe\">\n",
       "  <thead>\n",
       "    <tr style=\"text-align: right;\">\n",
       "      <th></th>\n",
       "      <th>dayofweek</th>\n",
       "      <th>value</th>\n",
       "      <th>count</th>\n",
       "    </tr>\n",
       "  </thead>\n",
       "  <tbody>\n",
       "    <tr>\n",
       "      <th>9</th>\n",
       "      <td>2</td>\n",
       "      <td>65796</td>\n",
       "      <td>nunique</td>\n",
       "    </tr>\n",
       "    <tr>\n",
       "      <th>10</th>\n",
       "      <td>3</td>\n",
       "      <td>65259</td>\n",
       "      <td>nunique</td>\n",
       "    </tr>\n",
       "    <tr>\n",
       "      <th>11</th>\n",
       "      <td>4</td>\n",
       "      <td>65615</td>\n",
       "      <td>nunique</td>\n",
       "    </tr>\n",
       "    <tr>\n",
       "      <th>12</th>\n",
       "      <td>5</td>\n",
       "      <td>60066</td>\n",
       "      <td>nunique</td>\n",
       "    </tr>\n",
       "    <tr>\n",
       "      <th>13</th>\n",
       "      <td>6</td>\n",
       "      <td>62613</td>\n",
       "      <td>nunique</td>\n",
       "    </tr>\n",
       "  </tbody>\n",
       "</table>\n",
       "</div>"
      ],
      "text/plain": [
       "    dayofweek  value    count\n",
       "9           2  65796  nunique\n",
       "10          3  65259  nunique\n",
       "11          4  65615  nunique\n",
       "12          5  60066  nunique\n",
       "13          6  62613  nunique"
      ]
     },
     "execution_count": 36,
     "metadata": {},
     "output_type": "execute_result"
    }
   ],
   "source": [
    "users_daily.tail()"
   ]
  },
  {
   "cell_type": "code",
   "execution_count": 37,
   "metadata": {
    "colab": {
     "base_uri": "https://localhost:8080/",
     "height": 469
    },
    "id": "SjfnXDHbjhaw",
    "outputId": "97adccab-38f1-468b-8e7a-09b42d946583"
   },
   "outputs": [
    {
     "data": {
      "image/png": "[encoded data removed]",
      "text/plain": [
       "<Figure size 1400x500 with 1 Axes>"
      ]
     },
     "metadata": {},
     "output_type": "display_data"
    }
   ],
   "source": [
    "plt.figure(figsize=(14, 5))\n",
    "sns.barplot(users_daily, x='dayofweek', y='value', hue='count')\n",
    "plt.show()"
   ]
  },
  {
   "cell_type": "markdown",
   "metadata": {
    "id": "QOw3H3z_mgQ0"
   },
   "source": [
    "# Krok 4: Sesje\n",
    "\n",
    "- Liczba sesji na użytkownika\n",
    "- Czasy trwania sesji"
   ]
  },
  {
   "cell_type": "code",
   "execution_count": 38,
   "metadata": {
    "id": "FalXRsbOjz_8"
   },
   "outputs": [
    {
     "name": "stderr",
     "output_type": "stream",
     "text": [
      "/tmp/ipykernel_7004/2437566297.py:1: FutureWarning: The default of observed=False is deprecated and will be changed to True in a future version of pandas. Pass observed=False to retain current behavior or observed=True to adopt the future default and silence this warning.\n",
      "  sessions_per_user = df[['user_id', 'user_session']].groupby('user_id').count()\n"
     ]
    }
   ],
   "source": [
    "sessions_per_user = df[['user_id', 'user_session']].groupby('user_id').count()"
   ]
  },
  {
   "cell_type": "code",
   "execution_count": 39,
   "metadata": {
    "colab": {
     "base_uri": "https://localhost:8080/",
     "height": 452
    },
    "id": "ndQpZt5fnF7a",
    "outputId": "099a256d-630b-4d47-dec3-4faf914166f9"
   },
   "outputs": [
    {
     "data": {
      "text/plain": [
       "<Axes: >"
      ]
     },
     "execution_count": 39,
     "metadata": {},
     "output_type": "execute_result"
    },
    {
     "data": {
      "image/png": "[encoded data removed]",
      "text/plain": [
       "<Figure size 640x480 with 1 Axes>"
      ]
     },
     "metadata": {},
     "output_type": "display_data"
    }
   ],
   "source": [
    "sns.boxplot(sessions_per_user)"
   ]
  },
  {
   "cell_type": "code",
   "execution_count": 40,
   "metadata": {
    "colab": {
     "base_uri": "https://localhost:8080/"
    },
    "id": "GKbCcnvUnKzC",
    "outputId": "be7dd56e-907c-4bbb-d34e-2eb90fcc9339"
   },
   "outputs": [
    {
     "data": {
      "text/plain": [
       "user_session    572\n",
       "dtype: int64"
      ]
     },
     "execution_count": 40,
     "metadata": {},
     "output_type": "execute_result"
    }
   ],
   "source": [
    "sessions_per_user.max()"
   ]
  },
  {
   "cell_type": "code",
   "execution_count": 41,
   "metadata": {
    "colab": {
     "base_uri": "https://localhost:8080/",
     "height": 238
    },
    "id": "JN7Zx3U3nSPF",
    "outputId": "c57857cb-bbaf-48fc-a440-df3a6f664566"
   },
   "outputs": [
    {
     "data": {
      "text/html": [
       "<div>\n",
       "<style scoped>\n",
       "    .dataframe tbody tr th:only-of-type {\n",
       "        vertical-align: middle;\n",
       "    }\n",
       "\n",
       "    .dataframe tbody tr th {\n",
       "        vertical-align: top;\n",
       "    }\n",
       "\n",
       "    .dataframe thead th {\n",
       "        text-align: right;\n",
       "    }\n",
       "</style>\n",
       "<table border=\"1\" class=\"dataframe\">\n",
       "  <thead>\n",
       "    <tr style=\"text-align: right;\">\n",
       "      <th></th>\n",
       "      <th>user_session</th>\n",
       "    </tr>\n",
       "    <tr>\n",
       "      <th>user_id</th>\n",
       "      <th></th>\n",
       "    </tr>\n",
       "  </thead>\n",
       "  <tbody>\n",
       "    <tr>\n",
       "      <th>1515915625598706843</th>\n",
       "      <td>0</td>\n",
       "    </tr>\n",
       "    <tr>\n",
       "      <th>1515915625567137589</th>\n",
       "      <td>0</td>\n",
       "    </tr>\n",
       "    <tr>\n",
       "      <th>1515915625553204661</th>\n",
       "      <td>0</td>\n",
       "    </tr>\n",
       "    <tr>\n",
       "      <th>1515915625545469004</th>\n",
       "      <td>0</td>\n",
       "    </tr>\n",
       "    <tr>\n",
       "      <th>1515915625528940165</th>\n",
       "      <td>0</td>\n",
       "    </tr>\n",
       "  </tbody>\n",
       "</table>\n",
       "</div>"
      ],
      "text/plain": [
       "                     user_session\n",
       "user_id                          \n",
       "1515915625598706843             0\n",
       "1515915625567137589             0\n",
       "1515915625553204661             0\n",
       "1515915625545469004             0\n",
       "1515915625528940165             0"
      ]
     },
     "execution_count": 41,
     "metadata": {},
     "output_type": "execute_result"
    }
   ],
   "source": [
    "sessions_per_user.sort_values(by='user_session').head()"
   ]
  },
  {
   "cell_type": "code",
   "execution_count": 42,
   "metadata": {
    "colab": {
     "base_uri": "https://localhost:8080/",
     "height": 238
    },
    "id": "RTWHAMEjnV1z",
    "outputId": "8835213a-7947-440e-8612-56c1253dcc79"
   },
   "outputs": [
    {
     "data": {
      "text/html": [
       "<div>\n",
       "<style scoped>\n",
       "    .dataframe tbody tr th:only-of-type {\n",
       "        vertical-align: middle;\n",
       "    }\n",
       "\n",
       "    .dataframe tbody tr th {\n",
       "        vertical-align: top;\n",
       "    }\n",
       "\n",
       "    .dataframe thead th {\n",
       "        text-align: right;\n",
       "    }\n",
       "</style>\n",
       "<table border=\"1\" class=\"dataframe\">\n",
       "  <thead>\n",
       "    <tr style=\"text-align: right;\">\n",
       "      <th></th>\n",
       "      <th>user_session</th>\n",
       "    </tr>\n",
       "    <tr>\n",
       "      <th>user_id</th>\n",
       "      <th></th>\n",
       "    </tr>\n",
       "  </thead>\n",
       "  <tbody>\n",
       "    <tr>\n",
       "      <th>1515915625554995474</th>\n",
       "      <td>572</td>\n",
       "    </tr>\n",
       "    <tr>\n",
       "      <th>1515915625527763086</th>\n",
       "      <td>424</td>\n",
       "    </tr>\n",
       "    <tr>\n",
       "      <th>1515915625591251010</th>\n",
       "      <td>363</td>\n",
       "    </tr>\n",
       "    <tr>\n",
       "      <th>1515915625591659523</th>\n",
       "      <td>339</td>\n",
       "    </tr>\n",
       "    <tr>\n",
       "      <th>1515915625537803839</th>\n",
       "      <td>329</td>\n",
       "    </tr>\n",
       "  </tbody>\n",
       "</table>\n",
       "</div>"
      ],
      "text/plain": [
       "                     user_session\n",
       "user_id                          \n",
       "1515915625554995474           572\n",
       "1515915625527763086           424\n",
       "1515915625591251010           363\n",
       "1515915625591659523           339\n",
       "1515915625537803839           329"
      ]
     },
     "execution_count": 42,
     "metadata": {},
     "output_type": "execute_result"
    }
   ],
   "source": [
    "sessions_per_user.sort_values(by='user_session', ascending=False).head()"
   ]
  },
  {
   "cell_type": "code",
   "execution_count": 43,
   "metadata": {
    "colab": {
     "base_uri": "https://localhost:8080/",
     "height": 424
    },
    "id": "90vKkl48njgm",
    "outputId": "e0d44c9c-06d3-4118-f73a-352e27870825"
   },
   "outputs": [
    {
     "data": {
      "text/html": [
       "<div>\n",
       "<style scoped>\n",
       "    .dataframe tbody tr th:only-of-type {\n",
       "        vertical-align: middle;\n",
       "    }\n",
       "\n",
       "    .dataframe tbody tr th {\n",
       "        vertical-align: top;\n",
       "    }\n",
       "\n",
       "    .dataframe thead th {\n",
       "        text-align: right;\n",
       "    }\n",
       "</style>\n",
       "<table border=\"1\" class=\"dataframe\">\n",
       "  <thead>\n",
       "    <tr style=\"text-align: right;\">\n",
       "      <th></th>\n",
       "      <th>event_type</th>\n",
       "      <th>product_id</th>\n",
       "      <th>category_id</th>\n",
       "      <th>price</th>\n",
       "      <th>user_id</th>\n",
       "      <th>user_session</th>\n",
       "      <th>datetime</th>\n",
       "      <th>date</th>\n",
       "      <th>dayofweek</th>\n",
       "    </tr>\n",
       "  </thead>\n",
       "  <tbody>\n",
       "    <tr>\n",
       "      <th>410028</th>\n",
       "      <td>view</td>\n",
       "      <td>3979136</td>\n",
       "      <td>2144415923744800906</td>\n",
       "      <td>297.19</td>\n",
       "      <td>1515915625554995474</td>\n",
       "      <td>nFlhu5QzOd</td>\n",
       "      <td>2020-12-08 06:13:31</td>\n",
       "      <td>2020-12-08</td>\n",
       "      <td>1</td>\n",
       "    </tr>\n",
       "    <tr>\n",
       "      <th>410029</th>\n",
       "      <td>view</td>\n",
       "      <td>3979025</td>\n",
       "      <td>2144415923744800906</td>\n",
       "      <td>350.60</td>\n",
       "      <td>1515915625554995474</td>\n",
       "      <td>nFlhu5QzOd</td>\n",
       "      <td>2020-12-08 06:13:38</td>\n",
       "      <td>2020-12-08</td>\n",
       "      <td>1</td>\n",
       "    </tr>\n",
       "    <tr>\n",
       "      <th>410030</th>\n",
       "      <td>view</td>\n",
       "      <td>3978887</td>\n",
       "      <td>2144415923744800906</td>\n",
       "      <td>369.17</td>\n",
       "      <td>1515915625554995474</td>\n",
       "      <td>nFlhu5QzOd</td>\n",
       "      <td>2020-12-08 06:13:45</td>\n",
       "      <td>2020-12-08</td>\n",
       "      <td>1</td>\n",
       "    </tr>\n",
       "    <tr>\n",
       "      <th>410099</th>\n",
       "      <td>view</td>\n",
       "      <td>483337</td>\n",
       "      <td>2144415923744800906</td>\n",
       "      <td>365.25</td>\n",
       "      <td>1515915625554995474</td>\n",
       "      <td>nFlhu5QzOd</td>\n",
       "      <td>2020-12-08 06:36:13</td>\n",
       "      <td>2020-12-08</td>\n",
       "      <td>1</td>\n",
       "    </tr>\n",
       "    <tr>\n",
       "      <th>410100</th>\n",
       "      <td>view</td>\n",
       "      <td>669304</td>\n",
       "      <td>2144415923744800906</td>\n",
       "      <td>478.59</td>\n",
       "      <td>1515915625554995474</td>\n",
       "      <td>nFlhu5QzOd</td>\n",
       "      <td>2020-12-08 06:36:27</td>\n",
       "      <td>2020-12-08</td>\n",
       "      <td>1</td>\n",
       "    </tr>\n",
       "    <tr>\n",
       "      <th>...</th>\n",
       "      <td>...</td>\n",
       "      <td>...</td>\n",
       "      <td>...</td>\n",
       "      <td>...</td>\n",
       "      <td>...</td>\n",
       "      <td>...</td>\n",
       "      <td>...</td>\n",
       "      <td>...</td>\n",
       "      <td>...</td>\n",
       "    </tr>\n",
       "    <tr>\n",
       "      <th>825008</th>\n",
       "      <td>view</td>\n",
       "      <td>247085</td>\n",
       "      <td>2144415923744800906</td>\n",
       "      <td>262.48</td>\n",
       "      <td>1515915625554995474</td>\n",
       "      <td>nFlhu5QzOd</td>\n",
       "      <td>2021-02-18 07:48:51</td>\n",
       "      <td>2021-02-18</td>\n",
       "      <td>3</td>\n",
       "    </tr>\n",
       "    <tr>\n",
       "      <th>825081</th>\n",
       "      <td>view</td>\n",
       "      <td>483337</td>\n",
       "      <td>2144415923744800906</td>\n",
       "      <td>365.25</td>\n",
       "      <td>1515915625554995474</td>\n",
       "      <td>nFlhu5QzOd</td>\n",
       "      <td>2021-02-18 07:59:38</td>\n",
       "      <td>2021-02-18</td>\n",
       "      <td>3</td>\n",
       "    </tr>\n",
       "    <tr>\n",
       "      <th>825082</th>\n",
       "      <td>view</td>\n",
       "      <td>847412</td>\n",
       "      <td>2144415923744800906</td>\n",
       "      <td>120.00</td>\n",
       "      <td>1515915625554995474</td>\n",
       "      <td>nFlhu5QzOd</td>\n",
       "      <td>2021-02-18 07:59:43</td>\n",
       "      <td>2021-02-18</td>\n",
       "      <td>3</td>\n",
       "    </tr>\n",
       "    <tr>\n",
       "      <th>825083</th>\n",
       "      <td>view</td>\n",
       "      <td>37774</td>\n",
       "      <td>2144415923744800906</td>\n",
       "      <td>167.62</td>\n",
       "      <td>1515915625554995474</td>\n",
       "      <td>nFlhu5QzOd</td>\n",
       "      <td>2021-02-18 07:59:47</td>\n",
       "      <td>2021-02-18</td>\n",
       "      <td>3</td>\n",
       "    </tr>\n",
       "    <tr>\n",
       "      <th>825085</th>\n",
       "      <td>view</td>\n",
       "      <td>247085</td>\n",
       "      <td>2144415923744800906</td>\n",
       "      <td>262.48</td>\n",
       "      <td>1515915625554995474</td>\n",
       "      <td>nFlhu5QzOd</td>\n",
       "      <td>2021-02-18 07:59:51</td>\n",
       "      <td>2021-02-18</td>\n",
       "      <td>3</td>\n",
       "    </tr>\n",
       "  </tbody>\n",
       "</table>\n",
       "<p>572 rows × 9 columns</p>\n",
       "</div>"
      ],
      "text/plain": [
       "       event_type product_id          category_id   price  \\\n",
       "410028       view    3979136  2144415923744800906  297.19   \n",
       "410029       view    3979025  2144415923744800906  350.60   \n",
       "410030       view    3978887  2144415923744800906  369.17   \n",
       "410099       view     483337  2144415923744800906  365.25   \n",
       "410100       view     669304  2144415923744800906  478.59   \n",
       "...           ...        ...                  ...     ...   \n",
       "825008       view     247085  2144415923744800906  262.48   \n",
       "825081       view     483337  2144415923744800906  365.25   \n",
       "825082       view     847412  2144415923744800906  120.00   \n",
       "825083       view      37774  2144415923744800906  167.62   \n",
       "825085       view     247085  2144415923744800906  262.48   \n",
       "\n",
       "                    user_id user_session            datetime        date  \\\n",
       "410028  1515915625554995474   nFlhu5QzOd 2020-12-08 06:13:31  2020-12-08   \n",
       "410029  1515915625554995474   nFlhu5QzOd 2020-12-08 06:13:38  2020-12-08   \n",
       "410030  1515915625554995474   nFlhu5QzOd 2020-12-08 06:13:45  2020-12-08   \n",
       "410099  1515915625554995474   nFlhu5QzOd 2020-12-08 06:36:13  2020-12-08   \n",
       "410100  1515915625554995474   nFlhu5QzOd 2020-12-08 06:36:27  2020-12-08   \n",
       "...                     ...          ...                 ...         ...   \n",
       "825008  1515915625554995474   nFlhu5QzOd 2021-02-18 07:48:51  2021-02-18   \n",
       "825081  1515915625554995474   nFlhu5QzOd 2021-02-18 07:59:38  2021-02-18   \n",
       "825082  1515915625554995474   nFlhu5QzOd 2021-02-18 07:59:43  2021-02-18   \n",
       "825083  1515915625554995474   nFlhu5QzOd 2021-02-18 07:59:47  2021-02-18   \n",
       "825085  1515915625554995474   nFlhu5QzOd 2021-02-18 07:59:51  2021-02-18   \n",
       "\n",
       "        dayofweek  \n",
       "410028          1  \n",
       "410029          1  \n",
       "410030          1  \n",
       "410099          1  \n",
       "410100          1  \n",
       "...           ...  \n",
       "825008          3  \n",
       "825081          3  \n",
       "825082          3  \n",
       "825083          3  \n",
       "825085          3  \n",
       "\n",
       "[572 rows x 9 columns]"
      ]
     },
     "execution_count": 43,
     "metadata": {},
     "output_type": "execute_result"
    }
   ],
   "source": [
    "df[df['user_id'] == 1515915625554995474]"
   ]
  },
  {
   "cell_type": "code",
   "execution_count": 44,
   "metadata": {
    "colab": {
     "base_uri": "https://localhost:8080/",
     "height": 452
    },
    "id": "MSdsR-DXnoyg",
    "outputId": "b9bea6ee-64a0-4d56-e76a-ab4e035e45c0"
   },
   "outputs": [
    {
     "data": {
      "text/plain": [
       "<Axes: >"
      ]
     },
     "execution_count": 44,
     "metadata": {},
     "output_type": "execute_result"
    },
    {
     "data": {
      "image/png": "[encoded data removed]",
      "text/plain": [
       "<Figure size 640x480 with 1 Axes>"
      ]
     },
     "metadata": {},
     "output_type": "display_data"
    }
   ],
   "source": [
    "sns.boxplot(sessions_per_user[sessions_per_user > 0], showfliers=False)"
   ]
  },
  {
   "cell_type": "code",
   "execution_count": 45,
   "metadata": {
    "colab": {
     "base_uri": "https://localhost:8080/",
     "height": 524
    },
    "id": "HzFodDAbn1Sm",
    "outputId": "4e6c6bcc-d2df-48e3-e4b5-09cdbba9c538"
   },
   "outputs": [
    {
     "data": {
      "text/plain": [
       "<seaborn.axisgrid.FacetGrid at 0x7e7303bc6570>"
      ]
     },
     "execution_count": 45,
     "metadata": {},
     "output_type": "execute_result"
    },
    {
     "data": {
      "image/png": "[encoded data removed]",
      "text/plain": [
       "<Figure size 638.125x500 with 1 Axes>"
      ]
     },
     "metadata": {},
     "output_type": "display_data"
    }
   ],
   "source": [
    "sns.displot(sessions_per_user[sessions_per_user > 0], kind='ecdf')"
   ]
  },
  {
   "cell_type": "code",
   "execution_count": 46,
   "metadata": {
    "colab": {
     "base_uri": "https://localhost:8080/",
     "height": 300
    },
    "id": "Pp3YMUQrn9bm",
    "outputId": "73439250-eb8d-4d61-db1b-c6fa9ee3d704"
   },
   "outputs": [
    {
     "data": {
      "text/html": [
       "<div>\n",
       "<style scoped>\n",
       "    .dataframe tbody tr th:only-of-type {\n",
       "        vertical-align: middle;\n",
       "    }\n",
       "\n",
       "    .dataframe tbody tr th {\n",
       "        vertical-align: top;\n",
       "    }\n",
       "\n",
       "    .dataframe thead th {\n",
       "        text-align: right;\n",
       "    }\n",
       "</style>\n",
       "<table border=\"1\" class=\"dataframe\">\n",
       "  <thead>\n",
       "    <tr style=\"text-align: right;\">\n",
       "      <th></th>\n",
       "      <th>user_session</th>\n",
       "    </tr>\n",
       "  </thead>\n",
       "  <tbody>\n",
       "    <tr>\n",
       "      <th>count</th>\n",
       "      <td>407283.000000</td>\n",
       "    </tr>\n",
       "    <tr>\n",
       "      <th>mean</th>\n",
       "      <td>2.171247</td>\n",
       "    </tr>\n",
       "    <tr>\n",
       "      <th>std</th>\n",
       "      <td>4.405389</td>\n",
       "    </tr>\n",
       "    <tr>\n",
       "      <th>min</th>\n",
       "      <td>0.000000</td>\n",
       "    </tr>\n",
       "    <tr>\n",
       "      <th>25%</th>\n",
       "      <td>1.000000</td>\n",
       "    </tr>\n",
       "    <tr>\n",
       "      <th>50%</th>\n",
       "      <td>1.000000</td>\n",
       "    </tr>\n",
       "    <tr>\n",
       "      <th>75%</th>\n",
       "      <td>2.000000</td>\n",
       "    </tr>\n",
       "    <tr>\n",
       "      <th>max</th>\n",
       "      <td>572.000000</td>\n",
       "    </tr>\n",
       "  </tbody>\n",
       "</table>\n",
       "</div>"
      ],
      "text/plain": [
       "        user_session\n",
       "count  407283.000000\n",
       "mean        2.171247\n",
       "std         4.405389\n",
       "min         0.000000\n",
       "25%         1.000000\n",
       "50%         1.000000\n",
       "75%         2.000000\n",
       "max       572.000000"
      ]
     },
     "execution_count": 46,
     "metadata": {},
     "output_type": "execute_result"
    }
   ],
   "source": [
    "sessions_per_user.describe()"
   ]
  },
  {
   "cell_type": "code",
   "execution_count": 47,
   "metadata": {
    "id": "q74IBqhwoe3b"
   },
   "outputs": [],
   "source": [
    "# Czas trwania sesji"
   ]
  },
  {
   "cell_type": "code",
   "execution_count": 48,
   "metadata": {
    "colab": {
     "base_uri": "https://localhost:8080/"
    },
    "id": "kHqWTnhNopD0",
    "outputId": "375578e4-1a31-443c-dfbe-c681b3ee3759"
   },
   "outputs": [
    {
     "data": {
      "text/plain": [
       "user_session\n",
       "000AMhYaQu                             2021-01-31 20:27:14\n",
       "000c34fa-991f-442a-8e07-8c472269bec6   2020-09-30 17:52:02\n",
       "001HttdHUk                             2021-01-09 23:35:49\n",
       "001P7lK0Pt                             2020-11-06 01:25:30\n",
       "001RxUtFJa                             2020-12-29 04:50:33\n",
       "Name: datetime, dtype: datetime64[ns]"
      ]
     },
     "execution_count": 48,
     "metadata": {},
     "output_type": "execute_result"
    }
   ],
   "source": [
    "session_min_times = df[['user_session', 'datetime']].groupby('user_session')['datetime'].min()\n",
    "session_min_times.head()"
   ]
  },
  {
   "cell_type": "code",
   "execution_count": 49,
   "metadata": {
    "colab": {
     "base_uri": "https://localhost:8080/"
    },
    "id": "o59AjZ5jp_gt",
    "outputId": "e344ef57-498c-47fa-8f2a-29ac39cd2fc1"
   },
   "outputs": [
    {
     "data": {
      "text/plain": [
       "user_session\n",
       "000AMhYaQu                             2021-01-31 20:27:14\n",
       "000c34fa-991f-442a-8e07-8c472269bec6   2020-09-30 17:52:02\n",
       "001HttdHUk                             2021-01-09 23:35:49\n",
       "001P7lK0Pt                             2020-11-06 01:25:43\n",
       "001RxUtFJa                             2020-12-29 04:50:33\n",
       "Name: datetime, dtype: datetime64[ns]"
      ]
     },
     "execution_count": 49,
     "metadata": {},
     "output_type": "execute_result"
    }
   ],
   "source": [
    "session_max_times = df[['user_session', 'datetime']].groupby('user_session')['datetime'].max()\n",
    "session_max_times.head()"
   ]
  },
  {
   "cell_type": "code",
   "execution_count": 51,
   "metadata": {
    "colab": {
     "base_uri": "https://localhost:8080/"
    },
    "id": "d5uX156bq6P0",
    "outputId": "ef9fdc26-51a6-42d6-972c-21f83ab1fd89"
   },
   "outputs": [
    {
     "data": {
      "text/plain": [
       "user_session\n",
       "000AMhYaQu                             0 days 00:00:00\n",
       "000c34fa-991f-442a-8e07-8c472269bec6   0 days 00:00:00\n",
       "001HttdHUk                             0 days 00:00:00\n",
       "001P7lK0Pt                             0 days 00:00:13\n",
       "001RxUtFJa                             0 days 00:00:00\n",
       "Name: datetime, dtype: timedelta64[ns]"
      ]
     },
     "execution_count": 51,
     "metadata": {},
     "output_type": "execute_result"
    }
   ],
   "source": [
    "total_session_times = session_max_times - session_min_times\n",
    "total_session_times.head()"
   ]
  },
  {
   "cell_type": "code",
   "execution_count": 52,
   "metadata": {
    "colab": {
     "base_uri": "https://localhost:8080/"
    },
    "id": "SNVlQN5IrDsy",
    "outputId": "fd8872c7-c086-4b8e-9786-f0498ea5fae2"
   },
   "outputs": [
    {
     "data": {
      "text/plain": [
       "user_session\n",
       "000AMhYaQu                               0.0\n",
       "000c34fa-991f-442a-8e07-8c472269bec6     0.0\n",
       "001HttdHUk                               0.0\n",
       "001P7lK0Pt                              13.0\n",
       "001RxUtFJa                               0.0\n",
       "Name: datetime, dtype: float64"
      ]
     },
     "execution_count": 52,
     "metadata": {},
     "output_type": "execute_result"
    }
   ],
   "source": [
    "total_session_times = (session_max_times - session_min_times).dt.total_seconds()\n",
    "total_session_times.head()"
   ]
  },
  {
   "cell_type": "code",
   "execution_count": 53,
   "metadata": {
    "colab": {
     "base_uri": "https://localhost:8080/"
    },
    "id": "XT1ZqDq2rIos",
    "outputId": "7a2928e1-ccf0-4b8a-e4ff-e02d726b7789"
   },
   "outputs": [
    {
     "data": {
      "text/plain": [
       "0.7138263206619929"
      ]
     },
     "execution_count": 53,
     "metadata": {},
     "output_type": "execute_result"
    }
   ],
   "source": [
    "len(total_session_times[total_session_times == 0]) / len(total_session_times)"
   ]
  },
  {
   "cell_type": "code",
   "execution_count": 54,
   "metadata": {
    "id": "dTe6Wr5zrO9l"
   },
   "outputs": [],
   "source": [
    "sdf = df[df['user_session'].isin(total_session_times[total_session_times == 0].index)]"
   ]
  },
  {
   "cell_type": "code",
   "execution_count": 55,
   "metadata": {
    "colab": {
     "base_uri": "https://localhost:8080/"
    },
    "id": "7j7wVFLOsbxK",
    "outputId": "62b059a9-b016-41b0-f668-2b01189d17c4"
   },
   "outputs": [
    {
     "data": {
      "text/plain": [
       "event_type\n",
       "view        348475\n",
       "purchase      1888\n",
       "cart            20\n",
       "Name: count, dtype: int64"
      ]
     },
     "execution_count": 55,
     "metadata": {},
     "output_type": "execute_result"
    }
   ],
   "source": [
    "sdf['event_type'].value_counts()"
   ]
  },
  {
   "cell_type": "code",
   "execution_count": 56,
   "metadata": {
    "colab": {
     "base_uri": "https://localhost:8080/"
    },
    "id": "0I73icPzshk6",
    "outputId": "d7718de6-4c50-4e76-8ae3-d67831efb6a9"
   },
   "outputs": [
    {
     "data": {
      "text/plain": [
       "count    4.903980e+05\n",
       "mean     2.522750e+04\n",
       "std      2.987723e+05\n",
       "min      0.000000e+00\n",
       "25%      0.000000e+00\n",
       "50%      0.000000e+00\n",
       "75%      3.000000e+01\n",
       "max      1.339442e+07\n",
       "Name: datetime, dtype: float64"
      ]
     },
     "execution_count": 56,
     "metadata": {},
     "output_type": "execute_result"
    }
   ],
   "source": [
    "total_session_times.describe()"
   ]
  },
  {
   "cell_type": "code",
   "execution_count": 57,
   "metadata": {
    "colab": {
     "base_uri": "https://localhost:8080/"
    },
    "id": "aJT3_D_GtPpG",
    "outputId": "71e75242-8024-4a98-b24a-bc4fc7c4fa59"
   },
   "outputs": [
    {
     "data": {
      "text/plain": [
       "count    1.403390e+05\n",
       "mean     8.815451e+04\n",
       "std      5.535159e+05\n",
       "min      1.000000e+00\n",
       "25%      6.500000e+01\n",
       "50%      2.240000e+02\n",
       "75%      1.236000e+03\n",
       "max      1.339442e+07\n",
       "Name: datetime, dtype: float64"
      ]
     },
     "execution_count": 57,
     "metadata": {},
     "output_type": "execute_result"
    }
   ],
   "source": [
    "total_session_times[total_session_times > 0].describe()"
   ]
  },
  {
   "cell_type": "markdown",
   "metadata": {
    "id": "8vjVNR_9urcv"
   },
   "source": [
    "# Krok 5: Wytypowanie użytkowników którzy mieli co najmniej 3 interakcje z produktami"
   ]
  },
  {
   "cell_type": "code",
   "execution_count": 58,
   "metadata": {
    "colab": {
     "base_uri": "https://localhost:8080/"
    },
    "id": "ygRrCQsuufuX",
    "outputId": "0509a2e1-c4ff-4db9-fc15-869d68c151eb"
   },
   "outputs": [
    {
     "name": "stderr",
     "output_type": "stream",
     "text": [
      "/tmp/ipykernel_7004/2549993431.py:1: FutureWarning: The default of observed=False is deprecated and will be changed to True in a future version of pandas. Pass observed=False to retain current behavior or observed=True to adopt the future default and silence this warning.\n",
      "  users_with_interactions = df[['user_id', 'product_id']].groupby('user_id').count()['product_id']\n"
     ]
    },
    {
     "data": {
      "text/plain": [
       "user_id\n",
       "1515915625353226922     1\n",
       "1515915625353230067     1\n",
       "1515915625353230683    13\n",
       "1515915625353230922     1\n",
       "1515915625353234047    36\n",
       "Name: product_id, dtype: int64"
      ]
     },
     "execution_count": 58,
     "metadata": {},
     "output_type": "execute_result"
    }
   ],
   "source": [
    "users_with_interactions = df[['user_id', 'product_id']].groupby('user_id').count()['product_id']\n",
    "users_with_interactions.head()"
   ]
  },
  {
   "cell_type": "code",
   "execution_count": 59,
   "metadata": {
    "colab": {
     "base_uri": "https://localhost:8080/"
    },
    "id": "NiYiJBgxwafA",
    "outputId": "41e75853-5d3b-4589-b657-84897f1ca164"
   },
   "outputs": [
    {
     "data": {
      "text/plain": [
       "77078"
      ]
     },
     "execution_count": 59,
     "metadata": {},
     "output_type": "execute_result"
    }
   ],
   "source": [
    "len(users_with_interactions[users_with_interactions >= 3])"
   ]
  },
  {
   "cell_type": "code",
   "execution_count": 60,
   "metadata": {
    "id": "61oLWr9mxCYK"
   },
   "outputs": [],
   "source": [
    "indexes = users_with_interactions[users_with_interactions >= 3].index"
   ]
  },
  {
   "cell_type": "code",
   "execution_count": 61,
   "metadata": {
    "colab": {
     "base_uri": "https://localhost:8080/"
    },
    "id": "8DyD-cXBxEJi",
    "outputId": "8b79d783-f1aa-4adf-ca4f-3fd8f905323a"
   },
   "outputs": [
    {
     "data": {
      "text/plain": [
       "1515915625353230683"
      ]
     },
     "execution_count": 61,
     "metadata": {},
     "output_type": "execute_result"
    }
   ],
   "source": [
    "indexes[0]"
   ]
  },
  {
   "cell_type": "code",
   "execution_count": 62,
   "metadata": {
    "id": "ptI71UFBw5WW"
   },
   "outputs": [],
   "source": [
    "ndf = df[df['user_id'].isin(indexes)]"
   ]
  },
  {
   "cell_type": "code",
   "execution_count": 63,
   "metadata": {
    "colab": {
     "base_uri": "https://localhost:8080/"
    },
    "id": "Z5DQB-KnxHmc",
    "outputId": "45f29f87-f51c-4108-e819-e1b7a6661a60"
   },
   "outputs": [
    {
     "data": {
      "text/plain": [
       "0.5546087278992938"
      ]
     },
     "execution_count": 63,
     "metadata": {},
     "output_type": "execute_result"
    }
   ],
   "source": [
    "len(ndf) / len(df)"
   ]
  },
  {
   "cell_type": "code",
   "execution_count": 64,
   "metadata": {
    "colab": {
     "base_uri": "https://localhost:8080/",
     "height": 206
    },
    "id": "0MP-Jg9NxOma",
    "outputId": "be6d5a83-f206-4c83-e218-31435b9304fe"
   },
   "outputs": [
    {
     "data": {
      "text/html": [
       "<div>\n",
       "<style scoped>\n",
       "    .dataframe tbody tr th:only-of-type {\n",
       "        vertical-align: middle;\n",
       "    }\n",
       "\n",
       "    .dataframe tbody tr th {\n",
       "        vertical-align: top;\n",
       "    }\n",
       "\n",
       "    .dataframe thead th {\n",
       "        text-align: right;\n",
       "    }\n",
       "</style>\n",
       "<table border=\"1\" class=\"dataframe\">\n",
       "  <thead>\n",
       "    <tr style=\"text-align: right;\">\n",
       "      <th></th>\n",
       "      <th>event_type</th>\n",
       "      <th>product_id</th>\n",
       "      <th>category_id</th>\n",
       "      <th>price</th>\n",
       "      <th>user_id</th>\n",
       "      <th>user_session</th>\n",
       "      <th>datetime</th>\n",
       "      <th>date</th>\n",
       "      <th>dayofweek</th>\n",
       "    </tr>\n",
       "  </thead>\n",
       "  <tbody>\n",
       "    <tr>\n",
       "      <th>1</th>\n",
       "      <td>view</td>\n",
       "      <td>139905</td>\n",
       "      <td>2144415926932472027</td>\n",
       "      <td>17.16</td>\n",
       "      <td>1515915625519380411</td>\n",
       "      <td>tdicluNnRY</td>\n",
       "      <td>2020-09-24 11:57:26</td>\n",
       "      <td>2020-09-24</td>\n",
       "      <td>3</td>\n",
       "    </tr>\n",
       "    <tr>\n",
       "      <th>8</th>\n",
       "      <td>view</td>\n",
       "      <td>657859</td>\n",
       "      <td>2144415939431498289</td>\n",
       "      <td>34.17</td>\n",
       "      <td>1515915625519320570</td>\n",
       "      <td>HEl15U7JVy</td>\n",
       "      <td>2020-09-24 11:58:25</td>\n",
       "      <td>2020-09-24</td>\n",
       "      <td>3</td>\n",
       "    </tr>\n",
       "    <tr>\n",
       "      <th>10</th>\n",
       "      <td>view</td>\n",
       "      <td>811491</td>\n",
       "      <td>2144415926370435276</td>\n",
       "      <td>33.32</td>\n",
       "      <td>1515915625356205647</td>\n",
       "      <td>aFLc6y9kn4</td>\n",
       "      <td>2020-09-24 11:58:34</td>\n",
       "      <td>2020-09-24</td>\n",
       "      <td>3</td>\n",
       "    </tr>\n",
       "    <tr>\n",
       "      <th>11</th>\n",
       "      <td>view</td>\n",
       "      <td>811491</td>\n",
       "      <td>2144415926370435276</td>\n",
       "      <td>33.32</td>\n",
       "      <td>1515915625356205647</td>\n",
       "      <td>aFLc6y9kn4</td>\n",
       "      <td>2020-09-24 11:58:54</td>\n",
       "      <td>2020-09-24</td>\n",
       "      <td>3</td>\n",
       "    </tr>\n",
       "    <tr>\n",
       "      <th>17</th>\n",
       "      <td>view</td>\n",
       "      <td>523117</td>\n",
       "      <td>2144415924491387038</td>\n",
       "      <td>73.81</td>\n",
       "      <td>1515915625519334445</td>\n",
       "      <td>HycmCUvnFr</td>\n",
       "      <td>2020-09-24 12:00:33</td>\n",
       "      <td>2020-09-24</td>\n",
       "      <td>3</td>\n",
       "    </tr>\n",
       "  </tbody>\n",
       "</table>\n",
       "</div>"
      ],
      "text/plain": [
       "   event_type product_id          category_id  price              user_id  \\\n",
       "1        view     139905  2144415926932472027  17.16  1515915625519380411   \n",
       "8        view     657859  2144415939431498289  34.17  1515915625519320570   \n",
       "10       view     811491  2144415926370435276  33.32  1515915625356205647   \n",
       "11       view     811491  2144415926370435276  33.32  1515915625356205647   \n",
       "17       view     523117  2144415924491387038  73.81  1515915625519334445   \n",
       "\n",
       "   user_session            datetime        date  dayofweek  \n",
       "1    tdicluNnRY 2020-09-24 11:57:26  2020-09-24          3  \n",
       "8    HEl15U7JVy 2020-09-24 11:58:25  2020-09-24          3  \n",
       "10   aFLc6y9kn4 2020-09-24 11:58:34  2020-09-24          3  \n",
       "11   aFLc6y9kn4 2020-09-24 11:58:54  2020-09-24          3  \n",
       "17   HycmCUvnFr 2020-09-24 12:00:33  2020-09-24          3  "
      ]
     },
     "execution_count": 64,
     "metadata": {},
     "output_type": "execute_result"
    }
   ],
   "source": [
    "ndf.head()"
   ]
  },
  {
   "cell_type": "code",
   "execution_count": 65,
   "metadata": {
    "id": "yARXfAKfxP_U"
   },
   "outputs": [],
   "source": [
    "ndf = ndf[['category_id', 'user_id', 'datetime']]"
   ]
  },
  {
   "cell_type": "code",
   "execution_count": 66,
   "metadata": {
    "id": "m3G7CjzExah1"
   },
   "outputs": [],
   "source": [
    "ndf['ts'] = ndf['datetime'].values.astype(np.int64) // 10 ** 9"
   ]
  },
  {
   "cell_type": "code",
   "execution_count": 67,
   "metadata": {
    "colab": {
     "base_uri": "https://localhost:8080/",
     "height": 206
    },
    "id": "cjkzyQRSxgj8",
    "outputId": "d13250b8-9064-4c4a-94d4-38ca5e841e2f"
   },
   "outputs": [
    {
     "data": {
      "text/html": [
       "<div>\n",
       "<style scoped>\n",
       "    .dataframe tbody tr th:only-of-type {\n",
       "        vertical-align: middle;\n",
       "    }\n",
       "\n",
       "    .dataframe tbody tr th {\n",
       "        vertical-align: top;\n",
       "    }\n",
       "\n",
       "    .dataframe thead th {\n",
       "        text-align: right;\n",
       "    }\n",
       "</style>\n",
       "<table border=\"1\" class=\"dataframe\">\n",
       "  <thead>\n",
       "    <tr style=\"text-align: right;\">\n",
       "      <th></th>\n",
       "      <th>category_id</th>\n",
       "      <th>user_id</th>\n",
       "      <th>datetime</th>\n",
       "      <th>ts</th>\n",
       "    </tr>\n",
       "  </thead>\n",
       "  <tbody>\n",
       "    <tr>\n",
       "      <th>1</th>\n",
       "      <td>2144415926932472027</td>\n",
       "      <td>1515915625519380411</td>\n",
       "      <td>2020-09-24 11:57:26</td>\n",
       "      <td>1600948646</td>\n",
       "    </tr>\n",
       "    <tr>\n",
       "      <th>8</th>\n",
       "      <td>2144415939431498289</td>\n",
       "      <td>1515915625519320570</td>\n",
       "      <td>2020-09-24 11:58:25</td>\n",
       "      <td>1600948705</td>\n",
       "    </tr>\n",
       "    <tr>\n",
       "      <th>10</th>\n",
       "      <td>2144415926370435276</td>\n",
       "      <td>1515915625356205647</td>\n",
       "      <td>2020-09-24 11:58:34</td>\n",
       "      <td>1600948714</td>\n",
       "    </tr>\n",
       "    <tr>\n",
       "      <th>11</th>\n",
       "      <td>2144415926370435276</td>\n",
       "      <td>1515915625356205647</td>\n",
       "      <td>2020-09-24 11:58:54</td>\n",
       "      <td>1600948734</td>\n",
       "    </tr>\n",
       "    <tr>\n",
       "      <th>17</th>\n",
       "      <td>2144415924491387038</td>\n",
       "      <td>1515915625519334445</td>\n",
       "      <td>2020-09-24 12:00:33</td>\n",
       "      <td>1600948833</td>\n",
       "    </tr>\n",
       "  </tbody>\n",
       "</table>\n",
       "</div>"
      ],
      "text/plain": [
       "            category_id              user_id            datetime          ts\n",
       "1   2144415926932472027  1515915625519380411 2020-09-24 11:57:26  1600948646\n",
       "8   2144415939431498289  1515915625519320570 2020-09-24 11:58:25  1600948705\n",
       "10  2144415926370435276  1515915625356205647 2020-09-24 11:58:34  1600948714\n",
       "11  2144415926370435276  1515915625356205647 2020-09-24 11:58:54  1600948734\n",
       "17  2144415924491387038  1515915625519334445 2020-09-24 12:00:33  1600948833"
      ]
     },
     "execution_count": 67,
     "metadata": {},
     "output_type": "execute_result"
    }
   ],
   "source": [
    "ndf.head()"
   ]
  },
  {
   "cell_type": "code",
   "execution_count": 68,
   "metadata": {
    "id": "zfin-Cybx-ln"
   },
   "outputs": [],
   "source": [
    "ndf = ndf[['category_id', 'user_id', 'ts']]"
   ]
  },
  {
   "cell_type": "code",
   "execution_count": null,
   "metadata": {
    "id": "9BeWQ_PRyHLr"
   },
   "outputs": [],
   "source": [
    "NEW_FNAME = '.../recommender_input.csv'  # uzupełnij ścieżkę do pliku!"
   ]
  },
  {
   "cell_type": "code",
   "execution_count": null,
   "metadata": {
    "id": "OTulrk33yQuO"
   },
   "outputs": [],
   "source": [
    "ndf.to_csv(NEW_FNAME, index=False)"
   ]
  },
  {
   "cell_type": "code",
   "execution_count": null,
   "metadata": {
    "id": "SWYRskr7yVxd"
   },
   "outputs": [],
   "source": []
  }
 ],
 "metadata": {
  "colab": {
   "provenance": []
  },
  "kernelspec": {
   "display_name": "Python 3 (ipykernel)",
   "language": "python",
   "name": "python3"
  },
  "language_info": {
   "codemirror_mode": {
    "name": "ipython",
    "version": 3
   },
   "file_extension": ".py",
   "mimetype": "text/x-python",
   "name": "python",
   "nbconvert_exporter": "python",
   "pygments_lexer": "ipython3",
   "version": "3.12.0"
  }
 },
 "nbformat": 4,
 "nbformat_minor": 4
}
