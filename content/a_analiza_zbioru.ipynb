{
 "cells": [
  {
   "cell_type": "code",
   "execution_count": 1,
   "id": "6cd3185d",
   "metadata": {
    "id": "6cd3185d"
   },
   "outputs": [],
   "source": [
    "import numpy as np\n",
    "import pandas as pd\n",
    "import sqlite3\n",
    "\n",
    "import seaborn as sns\n",
    "import matplotlib.pyplot as plt"
   ]
  },
  {
   "cell_type": "code",
   "execution_count": null,
   "id": "1Tq9dkFT79C_",
   "metadata": {
    "colab": {
     "base_uri": "https://localhost:8080/"
    },
    "id": "1Tq9dkFT79C_",
    "outputId": "9181b287-3832-44f3-aa13-1ee82c0aca8e"
   },
   "outputs": [
    {
     "name": "stdout",
     "output_type": "stream",
     "text": [
      "Drive already mounted at /content/drive; to attempt to forcibly remount, call drive.mount(\"/content/drive\", force_remount=True).\n"
     ]
    }
   ],
   "source": [
    "from google.colab import drive\n",
    "drive.mount('/content/drive')"
   ]
  },
  {
   "cell_type": "markdown",
   "id": "pWVmEEgF-QSZ",
   "metadata": {
    "id": "pWVmEEgF-QSZ"
   },
   "source": [
    "# Krok 1: połączenie z bazą danych i pobranie danych"
   ]
  },
  {
   "cell_type": "code",
   "execution_count": 2,
   "id": "7433944b",
   "metadata": {
    "id": "7433944b"
   },
   "outputs": [],
   "source": [
    "conn = sqlite3.connect(\n",
    "    '.../events.sqlite'\n",
    "    )  # uzupełnij ścieżkę!\n",
    "df = pd.read_sql_query(\"SELECT * FROM events\", conn)\n",
    "conn.close()"
   ]
  },
  {
   "cell_type": "markdown",
   "id": "SQCIbyeE-V5H",
   "metadata": {
    "id": "SQCIbyeE-V5H"
   },
   "source": [
    "# Krok 2: wyświetlenie próbki danych"
   ]
  },
  {
   "cell_type": "code",
   "execution_count": 3,
   "id": "76143a71",
   "metadata": {
    "colab": {
     "base_uri": "https://localhost:8080/",
     "height": 206
    },
    "id": "76143a71",
    "outputId": "29db4fb1-2e21-4d18-a6c4-7a06c3799011"
   },
   "outputs": [
    {
     "data": {
      "text/html": [
       "<div>\n",
       "<style scoped>\n",
       "    .dataframe tbody tr th:only-of-type {\n",
       "        vertical-align: middle;\n",
       "    }\n",
       "\n",
       "    .dataframe tbody tr th {\n",
       "        vertical-align: top;\n",
       "    }\n",
       "\n",
       "    .dataframe thead th {\n",
       "        text-align: right;\n",
       "    }\n",
       "</style>\n",
       "<table border=\"1\" class=\"dataframe\">\n",
       "  <thead>\n",
       "    <tr style=\"text-align: right;\">\n",
       "      <th></th>\n",
       "      <th>event_time</th>\n",
       "      <th>event_type</th>\n",
       "      <th>product_id</th>\n",
       "      <th>category_id</th>\n",
       "      <th>category_code</th>\n",
       "      <th>brand</th>\n",
       "      <th>price</th>\n",
       "      <th>user_id</th>\n",
       "      <th>user_session</th>\n",
       "    </tr>\n",
       "  </thead>\n",
       "  <tbody>\n",
       "    <tr>\n",
       "      <th>0</th>\n",
       "      <td>2020-09-24 11:57:06 UTC</td>\n",
       "      <td>view</td>\n",
       "      <td>1996170</td>\n",
       "      <td>2144415922528452715</td>\n",
       "      <td>electronics.telephone</td>\n",
       "      <td>None</td>\n",
       "      <td>31.90</td>\n",
       "      <td>1515915625519388267</td>\n",
       "      <td>LJuJVLEjPT</td>\n",
       "    </tr>\n",
       "    <tr>\n",
       "      <th>1</th>\n",
       "      <td>2020-09-24 11:57:26 UTC</td>\n",
       "      <td>view</td>\n",
       "      <td>139905</td>\n",
       "      <td>2144415926932472027</td>\n",
       "      <td>computers.components.cooler</td>\n",
       "      <td>zalman</td>\n",
       "      <td>17.16</td>\n",
       "      <td>1515915625519380411</td>\n",
       "      <td>tdicluNnRY</td>\n",
       "    </tr>\n",
       "    <tr>\n",
       "      <th>2</th>\n",
       "      <td>2020-09-24 11:57:27 UTC</td>\n",
       "      <td>view</td>\n",
       "      <td>215454</td>\n",
       "      <td>2144415927158964449</td>\n",
       "      <td>None</td>\n",
       "      <td>None</td>\n",
       "      <td>9.81</td>\n",
       "      <td>1515915625513238515</td>\n",
       "      <td>4TMArHtXQy</td>\n",
       "    </tr>\n",
       "    <tr>\n",
       "      <th>3</th>\n",
       "      <td>2020-09-24 11:57:33 UTC</td>\n",
       "      <td>view</td>\n",
       "      <td>635807</td>\n",
       "      <td>2144415923107266682</td>\n",
       "      <td>computers.peripherals.printer</td>\n",
       "      <td>pantum</td>\n",
       "      <td>113.81</td>\n",
       "      <td>1515915625519014356</td>\n",
       "      <td>aGFYrNgC08</td>\n",
       "    </tr>\n",
       "    <tr>\n",
       "      <th>4</th>\n",
       "      <td>2020-09-24 11:57:36 UTC</td>\n",
       "      <td>view</td>\n",
       "      <td>3658723</td>\n",
       "      <td>2144415921169498184</td>\n",
       "      <td>None</td>\n",
       "      <td>cameronsino</td>\n",
       "      <td>15.87</td>\n",
       "      <td>1515915625510743344</td>\n",
       "      <td>aa4mmk0kwQ</td>\n",
       "    </tr>\n",
       "  </tbody>\n",
       "</table>\n",
       "</div>"
      ],
      "text/plain": [
       "                event_time event_type  product_id          category_id  \\\n",
       "0  2020-09-24 11:57:06 UTC       view     1996170  2144415922528452715   \n",
       "1  2020-09-24 11:57:26 UTC       view      139905  2144415926932472027   \n",
       "2  2020-09-24 11:57:27 UTC       view      215454  2144415927158964449   \n",
       "3  2020-09-24 11:57:33 UTC       view      635807  2144415923107266682   \n",
       "4  2020-09-24 11:57:36 UTC       view     3658723  2144415921169498184   \n",
       "\n",
       "                   category_code        brand   price              user_id  \\\n",
       "0          electronics.telephone         None   31.90  1515915625519388267   \n",
       "1    computers.components.cooler       zalman   17.16  1515915625519380411   \n",
       "2                           None         None    9.81  1515915625513238515   \n",
       "3  computers.peripherals.printer       pantum  113.81  1515915625519014356   \n",
       "4                           None  cameronsino   15.87  1515915625510743344   \n",
       "\n",
       "  user_session  \n",
       "0   LJuJVLEjPT  \n",
       "1   tdicluNnRY  \n",
       "2   4TMArHtXQy  \n",
       "3   aGFYrNgC08  \n",
       "4   aa4mmk0kwQ  "
      ]
     },
     "execution_count": 3,
     "metadata": {},
     "output_type": "execute_result"
    }
   ],
   "source": [
    "df.head()"
   ]
  },
  {
   "cell_type": "markdown",
   "id": "ms6EBEd9_B_u",
   "metadata": {
    "id": "ms6EBEd9_B_u"
   },
   "source": [
    "# Krok 3: Podstawowe własności danych\n",
    "\n",
    "- `info()`\n",
    "- `describe()`"
   ]
  },
  {
   "cell_type": "code",
   "execution_count": 4,
   "id": "55e7137d",
   "metadata": {
    "colab": {
     "base_uri": "https://localhost:8080/"
    },
    "id": "55e7137d",
    "outputId": "6e884fc5-2a1a-4c3c-8b48-3c28719d8364"
   },
   "outputs": [
    {
     "name": "stdout",
     "output_type": "stream",
     "text": [
      "<class 'pandas.core.frame.DataFrame'>\n",
      "RangeIndex: 885129 entries, 0 to 885128\n",
      "Data columns (total 9 columns):\n",
      " #   Column         Non-Null Count   Dtype  \n",
      "---  ------         --------------   -----  \n",
      " 0   event_time     885129 non-null  object \n",
      " 1   event_type     885129 non-null  object \n",
      " 2   product_id     885129 non-null  int64  \n",
      " 3   category_id    885129 non-null  int64  \n",
      " 4   category_code  648910 non-null  object \n",
      " 5   brand          672765 non-null  object \n",
      " 6   price          885129 non-null  float64\n",
      " 7   user_id        885129 non-null  int64  \n",
      " 8   user_session   884964 non-null  object \n",
      "dtypes: float64(1), int64(3), object(5)\n",
      "memory usage: 60.8+ MB\n"
     ]
    }
   ],
   "source": [
    "df.info()"
   ]
  },
  {
   "cell_type": "code",
   "execution_count": 5,
   "id": "CtjTbSz1_QSW",
   "metadata": {
    "colab": {
     "base_uri": "https://localhost:8080/",
     "height": 300
    },
    "id": "CtjTbSz1_QSW",
    "outputId": "e90f4bec-3912-4664-bb8f-6e76b3a204ad"
   },
   "outputs": [
    {
     "data": {
      "text/html": [
       "<div>\n",
       "<style scoped>\n",
       "    .dataframe tbody tr th:only-of-type {\n",
       "        vertical-align: middle;\n",
       "    }\n",
       "\n",
       "    .dataframe tbody tr th {\n",
       "        vertical-align: top;\n",
       "    }\n",
       "\n",
       "    .dataframe thead th {\n",
       "        text-align: right;\n",
       "    }\n",
       "</style>\n",
       "<table border=\"1\" class=\"dataframe\">\n",
       "  <thead>\n",
       "    <tr style=\"text-align: right;\">\n",
       "      <th></th>\n",
       "      <th>product_id</th>\n",
       "      <th>category_id</th>\n",
       "      <th>price</th>\n",
       "      <th>user_id</th>\n",
       "    </tr>\n",
       "  </thead>\n",
       "  <tbody>\n",
       "    <tr>\n",
       "      <th>count</th>\n",
       "      <td>8.851290e+05</td>\n",
       "      <td>8.851290e+05</td>\n",
       "      <td>885129.000000</td>\n",
       "      <td>8.851290e+05</td>\n",
       "    </tr>\n",
       "    <tr>\n",
       "      <th>mean</th>\n",
       "      <td>1.906621e+06</td>\n",
       "      <td>2.144423e+18</td>\n",
       "      <td>146.328713</td>\n",
       "      <td>1.515916e+18</td>\n",
       "    </tr>\n",
       "    <tr>\n",
       "      <th>std</th>\n",
       "      <td>1.458708e+06</td>\n",
       "      <td>6.165105e+14</td>\n",
       "      <td>296.807683</td>\n",
       "      <td>3.554165e+07</td>\n",
       "    </tr>\n",
       "    <tr>\n",
       "      <th>min</th>\n",
       "      <td>1.020000e+02</td>\n",
       "      <td>2.144416e+18</td>\n",
       "      <td>0.220000</td>\n",
       "      <td>1.515916e+18</td>\n",
       "    </tr>\n",
       "    <tr>\n",
       "      <th>25%</th>\n",
       "      <td>6.988030e+05</td>\n",
       "      <td>2.144416e+18</td>\n",
       "      <td>26.460000</td>\n",
       "      <td>1.515916e+18</td>\n",
       "    </tr>\n",
       "    <tr>\n",
       "      <th>50%</th>\n",
       "      <td>1.452883e+06</td>\n",
       "      <td>2.144416e+18</td>\n",
       "      <td>65.710000</td>\n",
       "      <td>1.515916e+18</td>\n",
       "    </tr>\n",
       "    <tr>\n",
       "      <th>75%</th>\n",
       "      <td>3.721194e+06</td>\n",
       "      <td>2.144416e+18</td>\n",
       "      <td>190.490000</td>\n",
       "      <td>1.515916e+18</td>\n",
       "    </tr>\n",
       "    <tr>\n",
       "      <th>max</th>\n",
       "      <td>4.183880e+06</td>\n",
       "      <td>2.227847e+18</td>\n",
       "      <td>64771.060000</td>\n",
       "      <td>1.515916e+18</td>\n",
       "    </tr>\n",
       "  </tbody>\n",
       "</table>\n",
       "</div>"
      ],
      "text/plain": [
       "         product_id   category_id          price       user_id\n",
       "count  8.851290e+05  8.851290e+05  885129.000000  8.851290e+05\n",
       "mean   1.906621e+06  2.144423e+18     146.328713  1.515916e+18\n",
       "std    1.458708e+06  6.165105e+14     296.807683  3.554165e+07\n",
       "min    1.020000e+02  2.144416e+18       0.220000  1.515916e+18\n",
       "25%    6.988030e+05  2.144416e+18      26.460000  1.515916e+18\n",
       "50%    1.452883e+06  2.144416e+18      65.710000  1.515916e+18\n",
       "75%    3.721194e+06  2.144416e+18     190.490000  1.515916e+18\n",
       "max    4.183880e+06  2.227847e+18   64771.060000  1.515916e+18"
      ]
     },
     "execution_count": 5,
     "metadata": {},
     "output_type": "execute_result"
    }
   ],
   "source": [
    "df.describe()"
   ]
  },
  {
   "cell_type": "markdown",
   "id": "ZWbHHANbATJY",
   "metadata": {
    "id": "ZWbHHANbATJY"
   },
   "source": [
    "**Nie wszystkie dane w `df.describe()` mają sens, ograniczymy liczbę wyników na dwa sposoby**\n",
    "\n",
    "## Opis kolumny liczbowej przy wykorzystaniu `pandas`"
   ]
  },
  {
   "cell_type": "code",
   "execution_count": 6,
   "id": "DWKC6zeiAM-4",
   "metadata": {
    "colab": {
     "base_uri": "https://localhost:8080/"
    },
    "id": "DWKC6zeiAM-4",
    "outputId": "daec9fdd-b4f0-4fdc-f5df-39b15c70d847"
   },
   "outputs": [
    {
     "data": {
      "text/plain": [
       "count    885129.000000\n",
       "mean        146.328713\n",
       "std         296.807683\n",
       "min           0.220000\n",
       "25%          26.460000\n",
       "50%          65.710000\n",
       "75%         190.490000\n",
       "max       64771.060000\n",
       "Name: price, dtype: float64"
      ]
     },
     "execution_count": 6,
     "metadata": {},
     "output_type": "execute_result"
    }
   ],
   "source": [
    "df['price'].describe()"
   ]
  },
  {
   "cell_type": "markdown",
   "id": "7mPkO3fjAxVE",
   "metadata": {
    "id": "7mPkO3fjAxVE"
   },
   "source": [
    "## Opis danych liczbowych które są ciągiem wartości przy wykorzystaniu `numpy`"
   ]
  },
  {
   "cell_type": "code",
   "execution_count": 7,
   "id": "5CKMxTHqArMR",
   "metadata": {
    "id": "5CKMxTHqArMR"
   },
   "outputs": [],
   "source": [
    "prices = df['price'].values"
   ]
  },
  {
   "cell_type": "code",
   "execution_count": 8,
   "id": "APm0pP79A_Ud",
   "metadata": {
    "colab": {
     "base_uri": "https://localhost:8080/"
    },
    "id": "APm0pP79A_Ud",
    "outputId": "c0981440-db92-41e0-9294-906e6f30a7be"
   },
   "outputs": [
    {
     "data": {
      "text/plain": [
       "array([ 31.9 ,  17.16,   9.81, 113.81,  15.87,  52.33, 215.41,  53.14,\n",
       "        34.17,  53.14,  33.32,  33.32,  14.6 , 268.17, 635.63,  92.  ,\n",
       "        18.1 ,  73.81,  24.29,  40.95])"
      ]
     },
     "execution_count": 8,
     "metadata": {},
     "output_type": "execute_result"
    }
   ],
   "source": [
    "prices[:20]"
   ]
  },
  {
   "cell_type": "code",
   "execution_count": 9,
   "id": "T91otroQBA91",
   "metadata": {
    "id": "T91otroQBA91"
   },
   "outputs": [],
   "source": [
    "from numpy.typing import ArrayLike\n",
    "\n",
    "\n",
    "def get_stats(data: ArrayLike):\n",
    "\n",
    "    _count = len(data)\n",
    "    _mean = np.mean(data)\n",
    "    _std = np.std(data)\n",
    "    _min = np.min(data)\n",
    "    _max = np.max(data)\n",
    "    _median = np.median(data)\n",
    "    _perc_25 = np.percentile(data, 25)\n",
    "    _perc_75 = np.percentile(data, 75)\n",
    "\n",
    "    _ds = {\n",
    "        'count': [_count],\n",
    "        'mean': [_mean],\n",
    "        'std': [_std],\n",
    "        'min': [_min],\n",
    "        '25%': [_perc_25],\n",
    "        '50%': [_median],\n",
    "        '75%': [_perc_75],\n",
    "        'max': [_max]\n",
    "    }\n",
    "    _df = pd.DataFrame(_ds).T\n",
    "    _df.columns = ['value']\n",
    "    return _df"
   ]
  },
  {
   "cell_type": "code",
   "execution_count": 10,
   "id": "65tA6nt0CX47",
   "metadata": {
    "id": "65tA6nt0CX47"
   },
   "outputs": [],
   "source": [
    "np_stats = get_stats(prices)"
   ]
  },
  {
   "cell_type": "code",
   "execution_count": 11,
   "id": "ZKqEAeMHCavZ",
   "metadata": {
    "colab": {
     "base_uri": "https://localhost:8080/",
     "height": 300
    },
    "id": "ZKqEAeMHCavZ",
    "outputId": "19b34995-6b3b-47fc-e3d1-ddaa84da0fd5"
   },
   "outputs": [
    {
     "data": {
      "text/html": [
       "<div>\n",
       "<style scoped>\n",
       "    .dataframe tbody tr th:only-of-type {\n",
       "        vertical-align: middle;\n",
       "    }\n",
       "\n",
       "    .dataframe tbody tr th {\n",
       "        vertical-align: top;\n",
       "    }\n",
       "\n",
       "    .dataframe thead th {\n",
       "        text-align: right;\n",
       "    }\n",
       "</style>\n",
       "<table border=\"1\" class=\"dataframe\">\n",
       "  <thead>\n",
       "    <tr style=\"text-align: right;\">\n",
       "      <th></th>\n",
       "      <th>value</th>\n",
       "    </tr>\n",
       "  </thead>\n",
       "  <tbody>\n",
       "    <tr>\n",
       "      <th>count</th>\n",
       "      <td>885129.000000</td>\n",
       "    </tr>\n",
       "    <tr>\n",
       "      <th>mean</th>\n",
       "      <td>146.328713</td>\n",
       "    </tr>\n",
       "    <tr>\n",
       "      <th>std</th>\n",
       "      <td>296.807515</td>\n",
       "    </tr>\n",
       "    <tr>\n",
       "      <th>min</th>\n",
       "      <td>0.220000</td>\n",
       "    </tr>\n",
       "    <tr>\n",
       "      <th>25%</th>\n",
       "      <td>26.460000</td>\n",
       "    </tr>\n",
       "    <tr>\n",
       "      <th>50%</th>\n",
       "      <td>65.710000</td>\n",
       "    </tr>\n",
       "    <tr>\n",
       "      <th>75%</th>\n",
       "      <td>190.490000</td>\n",
       "    </tr>\n",
       "    <tr>\n",
       "      <th>max</th>\n",
       "      <td>64771.060000</td>\n",
       "    </tr>\n",
       "  </tbody>\n",
       "</table>\n",
       "</div>"
      ],
      "text/plain": [
       "               value\n",
       "count  885129.000000\n",
       "mean      146.328713\n",
       "std       296.807515\n",
       "min         0.220000\n",
       "25%        26.460000\n",
       "50%        65.710000\n",
       "75%       190.490000\n",
       "max     64771.060000"
      ]
     },
     "execution_count": 11,
     "metadata": {},
     "output_type": "execute_result"
    }
   ],
   "source": [
    "np_stats"
   ]
  },
  {
   "cell_type": "code",
   "execution_count": 12,
   "id": "jncZs-OnCdaN",
   "metadata": {
    "colab": {
     "base_uri": "https://localhost:8080/"
    },
    "id": "jncZs-OnCdaN",
    "outputId": "c23e85a5-ba68-4baf-8d7e-a3d4fa9ebedf"
   },
   "outputs": [
    {
     "data": {
      "text/plain": [
       "count    885129.000000\n",
       "mean        146.328713\n",
       "std         296.807683\n",
       "min           0.220000\n",
       "25%          26.460000\n",
       "50%          65.710000\n",
       "75%         190.490000\n",
       "max       64771.060000\n",
       "Name: price, dtype: float64"
      ]
     },
     "execution_count": 12,
     "metadata": {},
     "output_type": "execute_result"
    }
   ],
   "source": [
    "df['price'].describe()"
   ]
  },
  {
   "cell_type": "markdown",
   "id": "RV-xIZaKDkoy",
   "metadata": {
    "id": "RV-xIZaKDkoy"
   },
   "source": [
    "# Krok 4: sprawdzenie duplikatów i brakujących rekordów"
   ]
  },
  {
   "cell_type": "code",
   "execution_count": 13,
   "id": "9rj7QvlGDWcS",
   "metadata": {
    "colab": {
     "base_uri": "https://localhost:8080/"
    },
    "id": "9rj7QvlGDWcS",
    "outputId": "3d481ec8-2a03-461e-a154-7cc40309ff89"
   },
   "outputs": [
    {
     "data": {
      "text/plain": [
       "-655"
      ]
     },
     "execution_count": 13,
     "metadata": {},
     "output_type": "execute_result"
    }
   ],
   "source": [
    "len(df.drop_duplicates()) - len(df)"
   ]
  },
  {
   "cell_type": "code",
   "execution_count": 14,
   "id": "LPyFv2eVEzfL",
   "metadata": {
    "id": "LPyFv2eVEzfL"
   },
   "outputs": [],
   "source": [
    "df = df.drop_duplicates()  # Czym mogą być duplikaty?"
   ]
  },
  {
   "cell_type": "code",
   "execution_count": 15,
   "id": "PXO7x3ghFC64",
   "metadata": {
    "colab": {
     "base_uri": "https://localhost:8080/",
     "height": 424
    },
    "id": "PXO7x3ghFC64",
    "outputId": "24e93556-3dad-4260-8a24-705d0cf2a835"
   },
   "outputs": [
    {
     "data": {
      "text/html": [
       "<div>\n",
       "<style scoped>\n",
       "    .dataframe tbody tr th:only-of-type {\n",
       "        vertical-align: middle;\n",
       "    }\n",
       "\n",
       "    .dataframe tbody tr th {\n",
       "        vertical-align: top;\n",
       "    }\n",
       "\n",
       "    .dataframe thead th {\n",
       "        text-align: right;\n",
       "    }\n",
       "</style>\n",
       "<table border=\"1\" class=\"dataframe\">\n",
       "  <thead>\n",
       "    <tr style=\"text-align: right;\">\n",
       "      <th></th>\n",
       "      <th>event_time</th>\n",
       "      <th>event_type</th>\n",
       "      <th>product_id</th>\n",
       "      <th>category_id</th>\n",
       "      <th>category_code</th>\n",
       "      <th>brand</th>\n",
       "      <th>price</th>\n",
       "      <th>user_id</th>\n",
       "      <th>user_session</th>\n",
       "    </tr>\n",
       "  </thead>\n",
       "  <tbody>\n",
       "    <tr>\n",
       "      <th>0</th>\n",
       "      <td>False</td>\n",
       "      <td>False</td>\n",
       "      <td>False</td>\n",
       "      <td>False</td>\n",
       "      <td>False</td>\n",
       "      <td>True</td>\n",
       "      <td>False</td>\n",
       "      <td>False</td>\n",
       "      <td>False</td>\n",
       "    </tr>\n",
       "    <tr>\n",
       "      <th>1</th>\n",
       "      <td>False</td>\n",
       "      <td>False</td>\n",
       "      <td>False</td>\n",
       "      <td>False</td>\n",
       "      <td>False</td>\n",
       "      <td>False</td>\n",
       "      <td>False</td>\n",
       "      <td>False</td>\n",
       "      <td>False</td>\n",
       "    </tr>\n",
       "    <tr>\n",
       "      <th>2</th>\n",
       "      <td>False</td>\n",
       "      <td>False</td>\n",
       "      <td>False</td>\n",
       "      <td>False</td>\n",
       "      <td>True</td>\n",
       "      <td>True</td>\n",
       "      <td>False</td>\n",
       "      <td>False</td>\n",
       "      <td>False</td>\n",
       "    </tr>\n",
       "    <tr>\n",
       "      <th>3</th>\n",
       "      <td>False</td>\n",
       "      <td>False</td>\n",
       "      <td>False</td>\n",
       "      <td>False</td>\n",
       "      <td>False</td>\n",
       "      <td>False</td>\n",
       "      <td>False</td>\n",
       "      <td>False</td>\n",
       "      <td>False</td>\n",
       "    </tr>\n",
       "    <tr>\n",
       "      <th>4</th>\n",
       "      <td>False</td>\n",
       "      <td>False</td>\n",
       "      <td>False</td>\n",
       "      <td>False</td>\n",
       "      <td>True</td>\n",
       "      <td>False</td>\n",
       "      <td>False</td>\n",
       "      <td>False</td>\n",
       "      <td>False</td>\n",
       "    </tr>\n",
       "    <tr>\n",
       "      <th>...</th>\n",
       "      <td>...</td>\n",
       "      <td>...</td>\n",
       "      <td>...</td>\n",
       "      <td>...</td>\n",
       "      <td>...</td>\n",
       "      <td>...</td>\n",
       "      <td>...</td>\n",
       "      <td>...</td>\n",
       "      <td>...</td>\n",
       "    </tr>\n",
       "    <tr>\n",
       "      <th>885124</th>\n",
       "      <td>False</td>\n",
       "      <td>False</td>\n",
       "      <td>False</td>\n",
       "      <td>False</td>\n",
       "      <td>True</td>\n",
       "      <td>True</td>\n",
       "      <td>False</td>\n",
       "      <td>False</td>\n",
       "      <td>False</td>\n",
       "    </tr>\n",
       "    <tr>\n",
       "      <th>885125</th>\n",
       "      <td>False</td>\n",
       "      <td>False</td>\n",
       "      <td>False</td>\n",
       "      <td>False</td>\n",
       "      <td>False</td>\n",
       "      <td>False</td>\n",
       "      <td>False</td>\n",
       "      <td>False</td>\n",
       "      <td>False</td>\n",
       "    </tr>\n",
       "    <tr>\n",
       "      <th>885126</th>\n",
       "      <td>False</td>\n",
       "      <td>False</td>\n",
       "      <td>False</td>\n",
       "      <td>False</td>\n",
       "      <td>False</td>\n",
       "      <td>False</td>\n",
       "      <td>False</td>\n",
       "      <td>False</td>\n",
       "      <td>False</td>\n",
       "    </tr>\n",
       "    <tr>\n",
       "      <th>885127</th>\n",
       "      <td>False</td>\n",
       "      <td>False</td>\n",
       "      <td>False</td>\n",
       "      <td>False</td>\n",
       "      <td>False</td>\n",
       "      <td>True</td>\n",
       "      <td>False</td>\n",
       "      <td>False</td>\n",
       "      <td>False</td>\n",
       "    </tr>\n",
       "    <tr>\n",
       "      <th>885128</th>\n",
       "      <td>False</td>\n",
       "      <td>False</td>\n",
       "      <td>False</td>\n",
       "      <td>False</td>\n",
       "      <td>False</td>\n",
       "      <td>False</td>\n",
       "      <td>False</td>\n",
       "      <td>False</td>\n",
       "      <td>False</td>\n",
       "    </tr>\n",
       "  </tbody>\n",
       "</table>\n",
       "<p>884474 rows × 9 columns</p>\n",
       "</div>"
      ],
      "text/plain": [
       "        event_time  event_type  product_id  category_id  category_code  brand  \\\n",
       "0            False       False       False        False          False   True   \n",
       "1            False       False       False        False          False  False   \n",
       "2            False       False       False        False           True   True   \n",
       "3            False       False       False        False          False  False   \n",
       "4            False       False       False        False           True  False   \n",
       "...            ...         ...         ...          ...            ...    ...   \n",
       "885124       False       False       False        False           True   True   \n",
       "885125       False       False       False        False          False  False   \n",
       "885126       False       False       False        False          False  False   \n",
       "885127       False       False       False        False          False   True   \n",
       "885128       False       False       False        False          False  False   \n",
       "\n",
       "        price  user_id  user_session  \n",
       "0       False    False         False  \n",
       "1       False    False         False  \n",
       "2       False    False         False  \n",
       "3       False    False         False  \n",
       "4       False    False         False  \n",
       "...       ...      ...           ...  \n",
       "885124  False    False         False  \n",
       "885125  False    False         False  \n",
       "885126  False    False         False  \n",
       "885127  False    False         False  \n",
       "885128  False    False         False  \n",
       "\n",
       "[884474 rows x 9 columns]"
      ]
     },
     "execution_count": 15,
     "metadata": {},
     "output_type": "execute_result"
    }
   ],
   "source": [
    "df.isna()"
   ]
  },
  {
   "cell_type": "code",
   "execution_count": 16,
   "id": "Mrwh1ulPFGiE",
   "metadata": {
    "colab": {
     "base_uri": "https://localhost:8080/"
    },
    "id": "Mrwh1ulPFGiE",
    "outputId": "4c948a66-759d-4ff6-8258-b524b6118a15"
   },
   "outputs": [
    {
     "data": {
      "text/plain": [
       "event_time       False\n",
       "event_type       False\n",
       "product_id       False\n",
       "category_id      False\n",
       "category_code     True\n",
       "brand             True\n",
       "price            False\n",
       "user_id          False\n",
       "user_session      True\n",
       "dtype: bool"
      ]
     },
     "execution_count": 16,
     "metadata": {},
     "output_type": "execute_result"
    }
   ],
   "source": [
    "df.isna().any()"
   ]
  },
  {
   "cell_type": "code",
   "execution_count": 17,
   "id": "GsJOWAeVFKbC",
   "metadata": {
    "id": "GsJOWAeVFKbC"
   },
   "outputs": [],
   "source": [
    "heatmap = df[['category_code', 'brand', 'user_session']].isna().values.astype(int)"
   ]
  },
  {
   "cell_type": "code",
   "execution_count": 18,
   "id": "n7hOc_kLFfXg",
   "metadata": {
    "colab": {
     "base_uri": "https://localhost:8080/",
     "height": 454
    },
    "id": "n7hOc_kLFfXg",
    "outputId": "3084cff8-1b74-4b50-ffa1-9f87204d2467"
   },
   "outputs": [
    {
     "data": {
      "text/plain": [
       "<Axes: >"
      ]
     },
     "execution_count": 18,
     "metadata": {},
     "output_type": "execute_result"
    },
    {
     "data": {
      "image/png": "[encoded data removed]",
      "text/plain": [
       "<Figure size 640x480 with 2 Axes>"
      ]
     },
     "metadata": {},
     "output_type": "display_data"
    }
   ],
   "source": [
    "sns.heatmap(heatmap)"
   ]
  },
  {
   "cell_type": "markdown",
   "id": "b4yF-bF2ZAmY",
   "metadata": {
    "id": "b4yF-bF2ZAmY"
   },
   "source": [
    "# Krok 5: usunięcie brakujących rekordów"
   ]
  },
  {
   "cell_type": "code",
   "execution_count": 19,
   "id": "0ufzI9ZxFh9-",
   "metadata": {
    "colab": {
     "base_uri": "https://localhost:8080/"
    },
    "id": "0ufzI9ZxFh9-",
    "outputId": "09495b7d-a0b4-4624-da0d-07a500a9a314"
   },
   "outputs": [
    {
     "data": {
      "text/plain": [
       "0.416766349265213"
      ]
     },
     "execution_count": 19,
     "metadata": {},
     "output_type": "execute_result"
    }
   ],
   "source": [
    "(len(df) - len(df.dropna())) / len(df)"
   ]
  },
  {
   "cell_type": "code",
   "execution_count": 20,
   "id": "Zkx-xuUDZUHa",
   "metadata": {
    "id": "Zkx-xuUDZUHa"
   },
   "outputs": [],
   "source": [
    "# Usunięcie tylu wierszy nie jest dobrym pomysłem"
   ]
  },
  {
   "cell_type": "code",
   "execution_count": 21,
   "id": "z70_teq4ZuJh",
   "metadata": {
    "id": "z70_teq4ZuJh"
   },
   "outputs": [],
   "source": [
    "# Trzeba zapytać, czy potrzeba kolumn 'category_code' i 'brand'?"
   ]
  },
  {
   "cell_type": "code",
   "execution_count": 22,
   "id": "UwbZFYbhaAPq",
   "metadata": {
    "id": "UwbZFYbhaAPq"
   },
   "outputs": [],
   "source": [
    "df = df.drop(columns=['category_code', 'brand'])"
   ]
  },
  {
   "cell_type": "code",
   "execution_count": 23,
   "id": "QgH8E1RdaFCM",
   "metadata": {
    "colab": {
     "base_uri": "https://localhost:8080/",
     "height": 206
    },
    "id": "QgH8E1RdaFCM",
    "outputId": "926d371b-de03-4808-b2bc-a6e1a3b3b4b1"
   },
   "outputs": [
    {
     "data": {
      "text/html": [
       "<div>\n",
       "<style scoped>\n",
       "    .dataframe tbody tr th:only-of-type {\n",
       "        vertical-align: middle;\n",
       "    }\n",
       "\n",
       "    .dataframe tbody tr th {\n",
       "        vertical-align: top;\n",
       "    }\n",
       "\n",
       "    .dataframe thead th {\n",
       "        text-align: right;\n",
       "    }\n",
       "</style>\n",
       "<table border=\"1\" class=\"dataframe\">\n",
       "  <thead>\n",
       "    <tr style=\"text-align: right;\">\n",
       "      <th></th>\n",
       "      <th>event_time</th>\n",
       "      <th>event_type</th>\n",
       "      <th>product_id</th>\n",
       "      <th>category_id</th>\n",
       "      <th>price</th>\n",
       "      <th>user_id</th>\n",
       "      <th>user_session</th>\n",
       "    </tr>\n",
       "  </thead>\n",
       "  <tbody>\n",
       "    <tr>\n",
       "      <th>0</th>\n",
       "      <td>2020-09-24 11:57:06 UTC</td>\n",
       "      <td>view</td>\n",
       "      <td>1996170</td>\n",
       "      <td>2144415922528452715</td>\n",
       "      <td>31.90</td>\n",
       "      <td>1515915625519388267</td>\n",
       "      <td>LJuJVLEjPT</td>\n",
       "    </tr>\n",
       "    <tr>\n",
       "      <th>1</th>\n",
       "      <td>2020-09-24 11:57:26 UTC</td>\n",
       "      <td>view</td>\n",
       "      <td>139905</td>\n",
       "      <td>2144415926932472027</td>\n",
       "      <td>17.16</td>\n",
       "      <td>1515915625519380411</td>\n",
       "      <td>tdicluNnRY</td>\n",
       "    </tr>\n",
       "    <tr>\n",
       "      <th>2</th>\n",
       "      <td>2020-09-24 11:57:27 UTC</td>\n",
       "      <td>view</td>\n",
       "      <td>215454</td>\n",
       "      <td>2144415927158964449</td>\n",
       "      <td>9.81</td>\n",
       "      <td>1515915625513238515</td>\n",
       "      <td>4TMArHtXQy</td>\n",
       "    </tr>\n",
       "    <tr>\n",
       "      <th>3</th>\n",
       "      <td>2020-09-24 11:57:33 UTC</td>\n",
       "      <td>view</td>\n",
       "      <td>635807</td>\n",
       "      <td>2144415923107266682</td>\n",
       "      <td>113.81</td>\n",
       "      <td>1515915625519014356</td>\n",
       "      <td>aGFYrNgC08</td>\n",
       "    </tr>\n",
       "    <tr>\n",
       "      <th>4</th>\n",
       "      <td>2020-09-24 11:57:36 UTC</td>\n",
       "      <td>view</td>\n",
       "      <td>3658723</td>\n",
       "      <td>2144415921169498184</td>\n",
       "      <td>15.87</td>\n",
       "      <td>1515915625510743344</td>\n",
       "      <td>aa4mmk0kwQ</td>\n",
       "    </tr>\n",
       "  </tbody>\n",
       "</table>\n",
       "</div>"
      ],
      "text/plain": [
       "                event_time event_type  product_id          category_id  \\\n",
       "0  2020-09-24 11:57:06 UTC       view     1996170  2144415922528452715   \n",
       "1  2020-09-24 11:57:26 UTC       view      139905  2144415926932472027   \n",
       "2  2020-09-24 11:57:27 UTC       view      215454  2144415927158964449   \n",
       "3  2020-09-24 11:57:33 UTC       view      635807  2144415923107266682   \n",
       "4  2020-09-24 11:57:36 UTC       view     3658723  2144415921169498184   \n",
       "\n",
       "    price              user_id user_session  \n",
       "0   31.90  1515915625519388267   LJuJVLEjPT  \n",
       "1   17.16  1515915625519380411   tdicluNnRY  \n",
       "2    9.81  1515915625513238515   4TMArHtXQy  \n",
       "3  113.81  1515915625519014356   aGFYrNgC08  \n",
       "4   15.87  1515915625510743344   aa4mmk0kwQ  "
      ]
     },
     "execution_count": 23,
     "metadata": {},
     "output_type": "execute_result"
    }
   ],
   "source": [
    "df.head()"
   ]
  },
  {
   "cell_type": "code",
   "execution_count": 24,
   "id": "NvPLQhdTaF6f",
   "metadata": {
    "id": "NvPLQhdTaF6f"
   },
   "outputs": [],
   "source": [
    "# A co z kolumną 'user_session'?"
   ]
  },
  {
   "cell_type": "code",
   "execution_count": 25,
   "id": "va4s9BezahJ3",
   "metadata": {
    "colab": {
     "base_uri": "https://localhost:8080/"
    },
    "id": "va4s9BezahJ3",
    "outputId": "401ce785-be53-41cf-8c0f-a83251dfc46b"
   },
   "outputs": [
    {
     "data": {
      "text/plain": [
       "162"
      ]
     },
     "execution_count": 25,
     "metadata": {},
     "output_type": "execute_result"
    }
   ],
   "source": [
    "sum(df['user_session'].isna())"
   ]
  },
  {
   "cell_type": "code",
   "execution_count": 26,
   "id": "3S-3Ovrsakk7",
   "metadata": {
    "id": "3S-3Ovrsakk7"
   },
   "outputs": [],
   "source": [
    "no_user_session = df[df['user_session'].isna()]"
   ]
  },
  {
   "cell_type": "code",
   "execution_count": 27,
   "id": "Ho7knA49avpt",
   "metadata": {
    "colab": {
     "base_uri": "https://localhost:8080/",
     "height": 206
    },
    "id": "Ho7knA49avpt",
    "outputId": "cf28e665-7a0f-40c5-b17e-adb38e006191"
   },
   "outputs": [
    {
     "data": {
      "text/html": [
       "<div>\n",
       "<style scoped>\n",
       "    .dataframe tbody tr th:only-of-type {\n",
       "        vertical-align: middle;\n",
       "    }\n",
       "\n",
       "    .dataframe tbody tr th {\n",
       "        vertical-align: top;\n",
       "    }\n",
       "\n",
       "    .dataframe thead th {\n",
       "        text-align: right;\n",
       "    }\n",
       "</style>\n",
       "<table border=\"1\" class=\"dataframe\">\n",
       "  <thead>\n",
       "    <tr style=\"text-align: right;\">\n",
       "      <th></th>\n",
       "      <th>event_time</th>\n",
       "      <th>event_type</th>\n",
       "      <th>product_id</th>\n",
       "      <th>category_id</th>\n",
       "      <th>price</th>\n",
       "      <th>user_id</th>\n",
       "      <th>user_session</th>\n",
       "    </tr>\n",
       "  </thead>\n",
       "  <tbody>\n",
       "    <tr>\n",
       "      <th>2257</th>\n",
       "      <td>2020-09-24 23:47:04 UTC</td>\n",
       "      <td>view</td>\n",
       "      <td>1715896</td>\n",
       "      <td>2144415926731145430</td>\n",
       "      <td>17.40</td>\n",
       "      <td>1515915625496120859</td>\n",
       "      <td>None</td>\n",
       "    </tr>\n",
       "    <tr>\n",
       "      <th>6872</th>\n",
       "      <td>2020-09-26 05:14:39 UTC</td>\n",
       "      <td>view</td>\n",
       "      <td>3791351</td>\n",
       "      <td>2144415926966026460</td>\n",
       "      <td>204.29</td>\n",
       "      <td>1515915625519884058</td>\n",
       "      <td>None</td>\n",
       "    </tr>\n",
       "    <tr>\n",
       "      <th>7898</th>\n",
       "      <td>2020-09-26 10:58:24 UTC</td>\n",
       "      <td>view</td>\n",
       "      <td>1785245</td>\n",
       "      <td>2144415925011480748</td>\n",
       "      <td>43.11</td>\n",
       "      <td>1515915625495954428</td>\n",
       "      <td>None</td>\n",
       "    </tr>\n",
       "    <tr>\n",
       "      <th>11782</th>\n",
       "      <td>2020-09-27 11:59:41 UTC</td>\n",
       "      <td>view</td>\n",
       "      <td>1153724</td>\n",
       "      <td>2144415921169498184</td>\n",
       "      <td>6.29</td>\n",
       "      <td>1515915625520228004</td>\n",
       "      <td>None</td>\n",
       "    </tr>\n",
       "    <tr>\n",
       "      <th>24461</th>\n",
       "      <td>2020-09-30 07:31:01 UTC</td>\n",
       "      <td>view</td>\n",
       "      <td>1559260</td>\n",
       "      <td>2144415928845074703</td>\n",
       "      <td>16.83</td>\n",
       "      <td>1515915625397674009</td>\n",
       "      <td>None</td>\n",
       "    </tr>\n",
       "  </tbody>\n",
       "</table>\n",
       "</div>"
      ],
      "text/plain": [
       "                    event_time event_type  product_id          category_id  \\\n",
       "2257   2020-09-24 23:47:04 UTC       view     1715896  2144415926731145430   \n",
       "6872   2020-09-26 05:14:39 UTC       view     3791351  2144415926966026460   \n",
       "7898   2020-09-26 10:58:24 UTC       view     1785245  2144415925011480748   \n",
       "11782  2020-09-27 11:59:41 UTC       view     1153724  2144415921169498184   \n",
       "24461  2020-09-30 07:31:01 UTC       view     1559260  2144415928845074703   \n",
       "\n",
       "        price              user_id user_session  \n",
       "2257    17.40  1515915625496120859         None  \n",
       "6872   204.29  1515915625519884058         None  \n",
       "7898    43.11  1515915625495954428         None  \n",
       "11782    6.29  1515915625520228004         None  \n",
       "24461   16.83  1515915625397674009         None  "
      ]
     },
     "execution_count": 27,
     "metadata": {},
     "output_type": "execute_result"
    }
   ],
   "source": [
    "no_user_session.head()"
   ]
  },
  {
   "cell_type": "markdown",
   "id": "HkQn0x_gdKBP",
   "metadata": {
    "id": "HkQn0x_gdKBP"
   },
   "source": [
    "# Krok 6: analiza poszczególnych kolumn\n",
    "\n",
    "## I| event_time"
   ]
  },
  {
   "cell_type": "code",
   "execution_count": 28,
   "id": "8R5RSVqYaxna",
   "metadata": {
    "id": "8R5RSVqYaxna"
   },
   "outputs": [],
   "source": [
    "# Zakres dat\n",
    "\n",
    "min_date = df['event_time'].min()"
   ]
  },
  {
   "cell_type": "code",
   "execution_count": 29,
   "id": "9WyP_j7dqfxw",
   "metadata": {
    "colab": {
     "base_uri": "https://localhost:8080/",
     "height": 35
    },
    "id": "9WyP_j7dqfxw",
    "outputId": "76fe3280-ebd0-4ac1-aacf-1da051ba5cf7"
   },
   "outputs": [
    {
     "data": {
      "text/plain": [
       "'2020-09-24 11:57:06 UTC'"
      ]
     },
     "execution_count": 29,
     "metadata": {},
     "output_type": "execute_result"
    }
   ],
   "source": [
    "min_date"
   ]
  },
  {
   "cell_type": "code",
   "execution_count": 30,
   "id": "zOKRztc7qhNO",
   "metadata": {
    "id": "zOKRztc7qhNO"
   },
   "outputs": [],
   "source": [
    "max_date = df['event_time'].max()"
   ]
  },
  {
   "cell_type": "code",
   "execution_count": 31,
   "id": "7C2-9AKkqk0o",
   "metadata": {
    "colab": {
     "base_uri": "https://localhost:8080/",
     "height": 35
    },
    "id": "7C2-9AKkqk0o",
    "outputId": "830d37b9-5bfb-4a41-d815-fe1b03d51ece"
   },
   "outputs": [
    {
     "data": {
      "text/plain": [
       "'2021-02-28 23:59:09 UTC'"
      ]
     },
     "execution_count": 31,
     "metadata": {},
     "output_type": "execute_result"
    }
   ],
   "source": [
    "max_date"
   ]
  },
  {
   "cell_type": "code",
   "execution_count": 32,
   "id": "wN0DVVgxql7Q",
   "metadata": {
    "colab": {
     "base_uri": "https://localhost:8080/"
    },
    "id": "wN0DVVgxql7Q",
    "outputId": "3ebfc634-20b3-4474-f948-5d5539c52e52"
   },
   "outputs": [
    {
     "data": {
      "text/plain": [
       "str"
      ]
     },
     "execution_count": 32,
     "metadata": {},
     "output_type": "execute_result"
    }
   ],
   "source": [
    "type(df['event_time'].values[0])"
   ]
  },
  {
   "cell_type": "code",
   "execution_count": 33,
   "id": "TuMEePePqsme",
   "metadata": {
    "id": "TuMEePePqsme"
   },
   "outputs": [],
   "source": [
    "df['datetime'] = pd.to_datetime(\n",
    "    df['event_time'],\n",
    "    format='%Y-%m-%d %H:%M:%S UTC',\n",
    "    utc=True\n",
    "    )"
   ]
  },
  {
   "cell_type": "code",
   "execution_count": 34,
   "id": "ExATcW6uqyNf",
   "metadata": {
    "colab": {
     "base_uri": "https://localhost:8080/"
    },
    "id": "ExATcW6uqyNf",
    "outputId": "ae14ccfe-a21d-4a18-cc81-fb795906b5cc"
   },
   "outputs": [
    {
     "data": {
      "text/plain": [
       "Timestamp('2020-09-24 11:57:06+0000', tz='UTC')"
      ]
     },
     "execution_count": 34,
     "metadata": {},
     "output_type": "execute_result"
    }
   ],
   "source": [
    "df['datetime'].min()"
   ]
  },
  {
   "cell_type": "code",
   "execution_count": 35,
   "id": "bL9VvbocsRFw",
   "metadata": {
    "colab": {
     "base_uri": "https://localhost:8080/"
    },
    "id": "bL9VvbocsRFw",
    "outputId": "0a419a1e-e542-4c42-e632-cddb43f7e749"
   },
   "outputs": [
    {
     "data": {
      "text/plain": [
       "Timestamp('2021-02-28 23:59:09+0000', tz='UTC')"
      ]
     },
     "execution_count": 35,
     "metadata": {},
     "output_type": "execute_result"
    }
   ],
   "source": [
    "df['datetime'].max()"
   ]
  },
  {
   "cell_type": "code",
   "execution_count": 36,
   "id": "XD_crYHPsTH6",
   "metadata": {
    "id": "XD_crYHPsTH6"
   },
   "outputs": [],
   "source": [
    "min_datetime = df['datetime'].min()\n",
    "max_datetime = df['datetime'].max()"
   ]
  },
  {
   "cell_type": "code",
   "execution_count": 37,
   "id": "8rEHFa-0sZjo",
   "metadata": {
    "colab": {
     "base_uri": "https://localhost:8080/"
    },
    "id": "8rEHFa-0sZjo",
    "outputId": "558913d3-461f-4091-b5d5-215270156044"
   },
   "outputs": [
    {
     "data": {
      "text/plain": [
       "157"
      ]
     },
     "execution_count": 37,
     "metadata": {},
     "output_type": "execute_result"
    }
   ],
   "source": [
    "(max_datetime - min_datetime).days"
   ]
  },
  {
   "cell_type": "markdown",
   "id": "ZdNtxfFrso_1",
   "metadata": {
    "id": "ZdNtxfFrso_1"
   },
   "source": [
    "## II| event_type"
   ]
  },
  {
   "cell_type": "code",
   "execution_count": 38,
   "id": "xU8_r1HVsdLZ",
   "metadata": {
    "colab": {
     "base_uri": "https://localhost:8080/"
    },
    "id": "xU8_r1HVsdLZ",
    "outputId": "d9d803d7-074e-4999-9bb9-aacd480c7707"
   },
   "outputs": [
    {
     "data": {
      "text/plain": [
       "3"
      ]
     },
     "execution_count": 38,
     "metadata": {},
     "output_type": "execute_result"
    }
   ],
   "source": [
    "df['event_type'].nunique()"
   ]
  },
  {
   "cell_type": "code",
   "execution_count": 39,
   "id": "ZS3g0LbjswAw",
   "metadata": {
    "colab": {
     "base_uri": "https://localhost:8080/"
    },
    "id": "ZS3g0LbjswAw",
    "outputId": "5c42f09e-4a5a-434f-9893-80e3ae3ace91"
   },
   "outputs": [
    {
     "data": {
      "text/plain": [
       "array(['view', 'cart', 'purchase'], dtype=object)"
      ]
     },
     "execution_count": 39,
     "metadata": {},
     "output_type": "execute_result"
    }
   ],
   "source": [
    "df['event_type'].unique()"
   ]
  },
  {
   "cell_type": "code",
   "execution_count": 40,
   "id": "PMBKOeOmsyOO",
   "metadata": {
    "colab": {
     "base_uri": "https://localhost:8080/"
    },
    "id": "PMBKOeOmsyOO",
    "outputId": "90c3dcd9-50d8-4a74-c1c9-6537e1c6980f"
   },
   "outputs": [
    {
     "data": {
      "text/plain": [
       "event_type\n",
       "view        793099\n",
       "cart         54032\n",
       "purchase     37343\n",
       "Name: count, dtype: int64"
      ]
     },
     "execution_count": 40,
     "metadata": {},
     "output_type": "execute_result"
    }
   ],
   "source": [
    "df['event_type'].value_counts()"
   ]
  },
  {
   "cell_type": "code",
   "execution_count": 41,
   "id": "F8IepVbJs1Tg",
   "metadata": {
    "colab": {
     "base_uri": "https://localhost:8080/"
    },
    "id": "F8IepVbJs1Tg",
    "outputId": "338770af-b02f-4994-cffc-810d6c5af1d0"
   },
   "outputs": [
    {
     "data": {
      "text/plain": [
       "event_type\n",
       "view        89.669001\n",
       "cart         6.108942\n",
       "purchase     4.222057\n",
       "Name: count, dtype: float64"
      ]
     },
     "execution_count": 41,
     "metadata": {},
     "output_type": "execute_result"
    }
   ],
   "source": [
    "(df['event_type'].value_counts() / len(df)) * 100"
   ]
  },
  {
   "cell_type": "markdown",
   "id": "Vuw-PhZys_SX",
   "metadata": {
    "id": "Vuw-PhZys_SX"
   },
   "source": [
    "## III| product_id"
   ]
  },
  {
   "cell_type": "code",
   "execution_count": 42,
   "id": "4V3fnjLbs7cm",
   "metadata": {
    "colab": {
     "base_uri": "https://localhost:8080/"
    },
    "id": "4V3fnjLbs7cm",
    "outputId": "7215499b-488a-4adc-d4c0-efb9fb328b3b"
   },
   "outputs": [
    {
     "data": {
      "text/plain": [
       "53453"
      ]
     },
     "execution_count": 42,
     "metadata": {},
     "output_type": "execute_result"
    }
   ],
   "source": [
    "df['product_id'].nunique()"
   ]
  },
  {
   "cell_type": "code",
   "execution_count": 43,
   "id": "HXPxXyYVtHCO",
   "metadata": {
    "colab": {
     "base_uri": "https://localhost:8080/"
    },
    "id": "HXPxXyYVtHCO",
    "outputId": "f919a14a-c20f-444e-ecb9-baba2904c460"
   },
   "outputs": [
    {
     "data": {
      "text/plain": [
       "0.060434789490702946"
      ]
     },
     "execution_count": 43,
     "metadata": {},
     "output_type": "execute_result"
    }
   ],
   "source": [
    "df['product_id'].nunique() / len(df)"
   ]
  },
  {
   "cell_type": "markdown",
   "id": "0MvNKzB6tLSi",
   "metadata": {
    "id": "0MvNKzB6tLSi"
   },
   "source": [
    "## IV| category_id"
   ]
  },
  {
   "cell_type": "code",
   "execution_count": 44,
   "id": "WYyv1zB_tJX-",
   "metadata": {
    "colab": {
     "base_uri": "https://localhost:8080/"
    },
    "id": "WYyv1zB_tJX-",
    "outputId": "001d2576-f0f9-416f-def8-d6560b7a7fed"
   },
   "outputs": [
    {
     "data": {
      "text/plain": [
       "718"
      ]
     },
     "execution_count": 44,
     "metadata": {},
     "output_type": "execute_result"
    }
   ],
   "source": [
    "df['category_id'].nunique()"
   ]
  },
  {
   "cell_type": "markdown",
   "id": "TuLejf51tZkI",
   "metadata": {
    "id": "TuLejf51tZkI"
   },
   "source": [
    "## V| price"
   ]
  },
  {
   "cell_type": "code",
   "execution_count": 45,
   "id": "VfXokETDtS3e",
   "metadata": {
    "colab": {
     "base_uri": "https://localhost:8080/",
     "height": 447
    },
    "id": "VfXokETDtS3e",
    "outputId": "0fbe6076-dc78-4753-9b2e-0d3892b21fa1"
   },
   "outputs": [
    {
     "data": {
      "text/plain": [
       "<Axes: ylabel='Frequency'>"
      ]
     },
     "execution_count": 45,
     "metadata": {},
     "output_type": "execute_result"
    },
    {
     "data": {
      "image/png": "[encoded data removed]",
      "text/plain": [
       "<Figure size 640x480 with 1 Axes>"
      ]
     },
     "metadata": {},
     "output_type": "display_data"
    }
   ],
   "source": [
    "df['price'].plot(kind='hist')"
   ]
  },
  {
   "cell_type": "code",
   "execution_count": 46,
   "id": "vZNW2Vi2thHU",
   "metadata": {
    "colab": {
     "base_uri": "https://localhost:8080/",
     "height": 466
    },
    "id": "vZNW2Vi2thHU",
    "outputId": "d85e2898-708c-4f83-a261-eb986b54535e"
   },
   "outputs": [
    {
     "data": {
      "text/plain": [
       "<Axes: xlabel='price', ylabel='Count'>"
      ]
     },
     "execution_count": 46,
     "metadata": {},
     "output_type": "execute_result"
    },
    {
     "data": {
      "image/png": "[encoded data removed]",
      "text/plain": [
       "<Figure size 640x480 with 1 Axes>"
      ]
     },
     "metadata": {},
     "output_type": "display_data"
    }
   ],
   "source": [
    "sns.histplot(df['price'])"
   ]
  },
  {
   "cell_type": "code",
   "execution_count": 47,
   "id": "ogKj2ezwtp57",
   "metadata": {
    "colab": {
     "base_uri": "https://localhost:8080/",
     "height": 466
    },
    "id": "ogKj2ezwtp57",
    "outputId": "9a18f4e3-67f9-4725-834e-524c5336e5ee"
   },
   "outputs": [
    {
     "data": {
      "text/plain": [
       "<Axes: xlabel='price', ylabel='Count'>"
      ]
     },
     "execution_count": 47,
     "metadata": {},
     "output_type": "execute_result"
    },
    {
     "data": {
      "image/png": "[encoded data removed]",
      "text/plain": [
       "<Figure size 640x480 with 1 Axes>"
      ]
     },
     "metadata": {},
     "output_type": "display_data"
    }
   ],
   "source": [
    "sns.histplot(np.log(df['price']))"
   ]
  },
  {
   "cell_type": "code",
   "execution_count": 48,
   "id": "gNffwDKQt5CQ",
   "metadata": {
    "colab": {
     "base_uri": "https://localhost:8080/",
     "height": 175
    },
    "id": "gNffwDKQt5CQ",
    "outputId": "f8b257e8-847f-4021-a085-c23aab3b17b4"
   },
   "outputs": [
    {
     "data": {
      "text/html": [
       "<div>\n",
       "<style scoped>\n",
       "    .dataframe tbody tr th:only-of-type {\n",
       "        vertical-align: middle;\n",
       "    }\n",
       "\n",
       "    .dataframe tbody tr th {\n",
       "        vertical-align: top;\n",
       "    }\n",
       "\n",
       "    .dataframe thead th {\n",
       "        text-align: right;\n",
       "    }\n",
       "</style>\n",
       "<table border=\"1\" class=\"dataframe\">\n",
       "  <thead>\n",
       "    <tr style=\"text-align: right;\">\n",
       "      <th></th>\n",
       "      <th>event_time</th>\n",
       "      <th>event_type</th>\n",
       "      <th>product_id</th>\n",
       "      <th>category_id</th>\n",
       "      <th>price</th>\n",
       "      <th>user_id</th>\n",
       "      <th>user_session</th>\n",
       "      <th>datetime</th>\n",
       "    </tr>\n",
       "  </thead>\n",
       "  <tbody>\n",
       "    <tr>\n",
       "      <th>51272</th>\n",
       "      <td>2020-10-06 06:54:04 UTC</td>\n",
       "      <td>view</td>\n",
       "      <td>4170916</td>\n",
       "      <td>2144415922402623591</td>\n",
       "      <td>64771.06</td>\n",
       "      <td>1515915625522796597</td>\n",
       "      <td>pfaAniPp5L</td>\n",
       "      <td>2020-10-06 06:54:04+00:00</td>\n",
       "    </tr>\n",
       "    <tr>\n",
       "      <th>86316</th>\n",
       "      <td>2020-10-14 06:26:41 UTC</td>\n",
       "      <td>view</td>\n",
       "      <td>4170916</td>\n",
       "      <td>2144415922402623591</td>\n",
       "      <td>64771.06</td>\n",
       "      <td>1515915625525406075</td>\n",
       "      <td>M91MkaVScv</td>\n",
       "      <td>2020-10-14 06:26:41+00:00</td>\n",
       "    </tr>\n",
       "    <tr>\n",
       "      <th>418716</th>\n",
       "      <td>2020-12-09 18:31:21 UTC</td>\n",
       "      <td>view</td>\n",
       "      <td>4170916</td>\n",
       "      <td>2144415922402623591</td>\n",
       "      <td>64771.06</td>\n",
       "      <td>1515915625556475919</td>\n",
       "      <td>3cyaesEFAP</td>\n",
       "      <td>2020-12-09 18:31:21+00:00</td>\n",
       "    </tr>\n",
       "    <tr>\n",
       "      <th>627562</th>\n",
       "      <td>2021-01-17 16:43:17 UTC</td>\n",
       "      <td>view</td>\n",
       "      <td>4170916</td>\n",
       "      <td>2144415922402623591</td>\n",
       "      <td>64771.06</td>\n",
       "      <td>1515915625593603786</td>\n",
       "      <td>nmfeoOLmrb</td>\n",
       "      <td>2021-01-17 16:43:17+00:00</td>\n",
       "    </tr>\n",
       "  </tbody>\n",
       "</table>\n",
       "</div>"
      ],
      "text/plain": [
       "                     event_time event_type  product_id          category_id  \\\n",
       "51272   2020-10-06 06:54:04 UTC       view     4170916  2144415922402623591   \n",
       "86316   2020-10-14 06:26:41 UTC       view     4170916  2144415922402623591   \n",
       "418716  2020-12-09 18:31:21 UTC       view     4170916  2144415922402623591   \n",
       "627562  2021-01-17 16:43:17 UTC       view     4170916  2144415922402623591   \n",
       "\n",
       "           price              user_id user_session                  datetime  \n",
       "51272   64771.06  1515915625522796597   pfaAniPp5L 2020-10-06 06:54:04+00:00  \n",
       "86316   64771.06  1515915625525406075   M91MkaVScv 2020-10-14 06:26:41+00:00  \n",
       "418716  64771.06  1515915625556475919   3cyaesEFAP 2020-12-09 18:31:21+00:00  \n",
       "627562  64771.06  1515915625593603786   nmfeoOLmrb 2021-01-17 16:43:17+00:00  "
      ]
     },
     "execution_count": 48,
     "metadata": {},
     "output_type": "execute_result"
    }
   ],
   "source": [
    "df[df['price'] > 60000]"
   ]
  },
  {
   "cell_type": "code",
   "execution_count": 49,
   "id": "UG9My9azt_VB",
   "metadata": {
    "colab": {
     "base_uri": "https://localhost:8080/"
    },
    "id": "UG9My9azt_VB",
    "outputId": "2e573c3f-b2d8-479a-a2b5-db3c0770df2d"
   },
   "outputs": [
    {
     "data": {
      "text/plain": [
       "51272     1515915625522796597\n",
       "86316     1515915625525406075\n",
       "418716    1515915625556475919\n",
       "627562    1515915625593603786\n",
       "Name: user_id, dtype: int64"
      ]
     },
     "execution_count": 49,
     "metadata": {},
     "output_type": "execute_result"
    }
   ],
   "source": [
    "df[df['price'] > 60000]['user_id']"
   ]
  },
  {
   "cell_type": "markdown",
   "id": "-LQMGAmKuW0k",
   "metadata": {
    "id": "-LQMGAmKuW0k"
   },
   "source": [
    "## VI| user_id & session_id"
   ]
  },
  {
   "cell_type": "code",
   "execution_count": 50,
   "id": "koUwf5IWuQTt",
   "metadata": {
    "colab": {
     "base_uri": "https://localhost:8080/"
    },
    "id": "koUwf5IWuQTt",
    "outputId": "54167a75-d058-4052-c157-33a21158f967"
   },
   "outputs": [
    {
     "data": {
      "text/plain": [
       "407283"
      ]
     },
     "execution_count": 50,
     "metadata": {},
     "output_type": "execute_result"
    }
   ],
   "source": [
    "df['user_id'].nunique()"
   ]
  },
  {
   "cell_type": "code",
   "execution_count": 51,
   "id": "HfgNag23uewV",
   "metadata": {
    "colab": {
     "base_uri": "https://localhost:8080/"
    },
    "id": "HfgNag23uewV",
    "outputId": "fe53fc01-cc4d-42c2-fe59-d0368400ddcd"
   },
   "outputs": [
    {
     "data": {
      "text/plain": [
       "490398"
      ]
     },
     "execution_count": 51,
     "metadata": {},
     "output_type": "execute_result"
    }
   ],
   "source": [
    "df['user_session'].nunique()"
   ]
  },
  {
   "cell_type": "code",
   "execution_count": 52,
   "id": "h1sYV8qMuiTa",
   "metadata": {
    "colab": {
     "base_uri": "https://localhost:8080/"
    },
    "id": "h1sYV8qMuiTa",
    "outputId": "08f232c8-8563-48ee-afd3-32a7f916bfa8"
   },
   "outputs": [
    {
     "data": {
      "text/plain": [
       "0.46048046635627504"
      ]
     },
     "execution_count": 52,
     "metadata": {},
     "output_type": "execute_result"
    }
   ],
   "source": [
    "df['user_id'].nunique() / len(df)"
   ]
  },
  {
   "cell_type": "code",
   "execution_count": 53,
   "id": "wLf6u-1KurFb",
   "metadata": {
    "colab": {
     "base_uri": "https://localhost:8080/"
    },
    "id": "wLf6u-1KurFb",
    "outputId": "b47a66e6-6660-4faf-ef1c-b0791160d52f"
   },
   "outputs": [
    {
     "data": {
      "text/plain": [
       "0.5544515723469542"
      ]
     },
     "execution_count": 53,
     "metadata": {},
     "output_type": "execute_result"
    }
   ],
   "source": [
    "df['user_session'].nunique() / len(df)"
   ]
  },
  {
   "cell_type": "markdown",
   "id": "G2OM9ZPtuypF",
   "metadata": {
    "id": "G2OM9ZPtuypF"
   },
   "source": [
    "# Krok 7: zapisz dane do dalszej analizy"
   ]
  },
  {
   "cell_type": "code",
   "execution_count": 54,
   "id": "BMOlQr4ZutOD",
   "metadata": {
    "id": "BMOlQr4ZutOD"
   },
   "outputs": [],
   "source": [
    "FPATH = '.../events_level_1.csv'  # uzupełnij ścieżkę do pliku"
   ]
  },
  {
   "cell_type": "code",
   "execution_count": null,
   "id": "L_AZh6OBu_ua",
   "metadata": {
    "id": "L_AZh6OBu_ua"
   },
   "outputs": [],
   "source": [
    "df.drop('event_time', inplace=True, axis=1)"
   ]
  },
  {
   "cell_type": "code",
   "execution_count": null,
   "id": "NJL6uG1ZvFmD",
   "metadata": {
    "id": "NJL6uG1ZvFmD"
   },
   "outputs": [],
   "source": [
    "df.to_csv(FPATH, index=False)"
   ]
  },
  {
   "cell_type": "code",
   "execution_count": null,
   "id": "Jn-9SMNWvTiP",
   "metadata": {
    "id": "Jn-9SMNWvTiP"
   },
   "outputs": [],
   "source": []
  }
 ],
 "metadata": {
  "colab": {
   "provenance": []
  },
  "kernelspec": {
   "display_name": "Python 3 (ipykernel)",
   "language": "python",
   "name": "python3"
  },
  "language_info": {
   "codemirror_mode": {
    "name": "ipython",
    "version": 3
   },
   "file_extension": ".py",
   "mimetype": "text/x-python",
   "name": "python",
   "nbconvert_exporter": "python",
   "pygments_lexer": "ipython3",
   "version": "3.12.0"
  }
 },
 "nbformat": 4,
 "nbformat_minor": 5
}
